{
 "cells": [
  {
   "cell_type": "markdown",
   "metadata": {},
   "source": [
    "# Yelp data analysis: Business and users' behaviour under COVID-19"
   ]
  },
  {
   "cell_type": "markdown",
   "metadata": {},
   "source": [
    "## Contents"
   ]
  },
  {
   "cell_type": "markdown",
   "metadata": {},
   "source": [
    "1. Executive Summary\n",
    "2. Introduction \n",
    "3. Preparation\n",
    "4. Data Set\n",
    "5. Preliminary Analysis \n",
    "6. Sentiment Analysis\n",
    "7. Execution Time\n",
    "8. Conclusion\n",
    "9. Reference"
   ]
  },
  {
   "cell_type": "markdown",
   "metadata": {},
   "source": [
    "## 1. Executive Summary"
   ]
  },
  {
   "cell_type": "markdown",
   "metadata": {},
   "source": [
    "This project aims to analyse Business and users' behaviour to help businesses under COVID-19 using Yelp Dataset.\n",
    "\n",
    "In the Preliminary Analysis part, Spark SQL is mainly used to analyze information in four JSON files, business.json, review.json, user.json, and COVID-19.json of Yelp Dataset. For businesses dataset: there are most businesses in Austin. Besides, most businesses are in the restaurant category. There are 37337 businesses closed, which accounts for 23.23% of all businesses. With respect to ratings, most businesses get 4 stars, which means they perform relatively well. For users dataset: review_count and fans are analyzed to find the number of reviews sent by people and followings of people. Futhermore, there was a rapid increase in the number of new users from year 2004 to year 2015 and maximum growth rate of new users is in 2015, with 267516 new users. However, number of users in Yelp increased slowly in 2020 and 2021, which might caused by the COVID-19. For reviews dataset, most reviews have ratings of five stars. Also, we regards reviews with stars larger than and equal to 4 as positive reviews, reviews with stars equal to 3 as positive reviews, and the remaining reviews are negative reviews, then the percentage of each types of reviews are analysed. To adapt to the effects of COVID-19, businesses provides some extra services, such as virtual services and delivery services to operating businesses udner COVID-19.\n",
    "\n",
    "In the Sentiment Analysis part, Latent Dirichlet Allocation(LDA) is implemented to find high frequency topics in positive and negative reviews. There is obvious different between topics in positive and negative reviews, so topics can be used to indicate sentiment of reviews. To measure the performance of LDA model, perplexity is implemented.\n",
    "\n",
    "There is no evidence that more partitions can decrease execution time with the experiments of different query using different numbers of partitions. Too many partitions may cause scheduling problems of small tasks. Too few partitions may cause network traffic when sending and collecting data.\n",
    "\n",
    "In conclusion, this project is a useful guide for people who are interested to learn from customers' reviews to improve their products and services and to discover target market. Furthermore, this report may be useful to discover how to operate businesses under COVID-19 providing different services, such as virtual services. At the same time, distributed computing for big data is more and more popular to discover value from large volume and wide variety of data. This project using Dataproc cluster on GCP, execute Spark SQL query and data mining algorithm using worker nodes to reduce computation time.\n"
   ]
  },
  {
   "cell_type": "markdown",
   "metadata": {},
   "source": [
    "## 2. Introduction"
   ]
  },
  {
   "cell_type": "markdown",
   "metadata": {},
   "source": [
    "This project aims to analyse information of businesses, users' behaviour and content of reviews to help businesses operating under COVID-19 using Yelp Dataset. This project mainly consists of four parts:\n",
    "\n",
    "##### 1. Preliminary Analysis:\n",
    "Spark SQL interfaced with DataFrame API is mainly used to analyze business information, user behaviour, reviews content, and COVID-19 information in four JSON files, business.json, review.json, user.json, and COVID-19.json of Yelp Dataset\n",
    "\n",
    "##### 2. Sentiment Analysis:\n",
    "Latent Dirichlet Allocation(LDA) is implemented in natural language processing to identify topic distribution of text in positive and negative reviews. Perplexity is used to measure the LDA model.\n",
    "\n",
    "##### 3. Execution Time:\n",
    "Different queries are executed using different number of partitions to examine the execution speed.\n",
    "\n"
   ]
  },
  {
   "cell_type": "markdown",
   "metadata": {},
   "source": [
    "## 3. Preparation"
   ]
  },
  {
   "cell_type": "markdown",
   "metadata": {},
   "source": [
    "### 3.1 Loading libraries"
   ]
  },
  {
   "cell_type": "code",
   "execution_count": 1,
   "metadata": {},
   "outputs": [
    {
     "name": "stderr",
     "output_type": "stream",
     "text": [
      "[nltk_data] Downloading collection 'all'\n",
      "[nltk_data]    | \n",
      "[nltk_data]    | Downloading package abc to\n",
      "[nltk_data]    |     /usr/local/share/nltk_data...\n",
      "[nltk_data]    |   Package abc is already up-to-date!\n",
      "[nltk_data]    | Downloading package alpino to\n",
      "[nltk_data]    |     /usr/local/share/nltk_data...\n",
      "[nltk_data]    |   Package alpino is already up-to-date!\n",
      "[nltk_data]    | Downloading package biocreative_ppi to\n",
      "[nltk_data]    |     /usr/local/share/nltk_data...\n",
      "[nltk_data]    |   Package biocreative_ppi is already up-to-date!\n",
      "[nltk_data]    | Downloading package brown to\n",
      "[nltk_data]    |     /usr/local/share/nltk_data...\n",
      "[nltk_data]    |   Package brown is already up-to-date!\n",
      "[nltk_data]    | Downloading package brown_tei to\n",
      "[nltk_data]    |     /usr/local/share/nltk_data...\n",
      "[nltk_data]    |   Package brown_tei is already up-to-date!\n",
      "[nltk_data]    | Downloading package cess_cat to\n",
      "[nltk_data]    |     /usr/local/share/nltk_data...\n",
      "[nltk_data]    |   Package cess_cat is already up-to-date!\n",
      "[nltk_data]    | Downloading package cess_esp to\n",
      "[nltk_data]    |     /usr/local/share/nltk_data...\n",
      "[nltk_data]    |   Package cess_esp is already up-to-date!\n",
      "[nltk_data]    | Downloading package chat80 to\n",
      "[nltk_data]    |     /usr/local/share/nltk_data...\n",
      "[nltk_data]    |   Package chat80 is already up-to-date!\n",
      "[nltk_data]    | Downloading package city_database to\n",
      "[nltk_data]    |     /usr/local/share/nltk_data...\n",
      "[nltk_data]    |   Package city_database is already up-to-date!\n",
      "[nltk_data]    | Downloading package cmudict to\n",
      "[nltk_data]    |     /usr/local/share/nltk_data...\n",
      "[nltk_data]    |   Package cmudict is already up-to-date!\n",
      "[nltk_data]    | Downloading package comparative_sentences to\n",
      "[nltk_data]    |     /usr/local/share/nltk_data...\n",
      "[nltk_data]    |   Package comparative_sentences is already up-to-\n",
      "[nltk_data]    |       date!\n",
      "[nltk_data]    | Downloading package comtrans to\n",
      "[nltk_data]    |     /usr/local/share/nltk_data...\n",
      "[nltk_data]    |   Package comtrans is already up-to-date!\n",
      "[nltk_data]    | Downloading package conll2000 to\n",
      "[nltk_data]    |     /usr/local/share/nltk_data...\n",
      "[nltk_data]    |   Package conll2000 is already up-to-date!\n",
      "[nltk_data]    | Downloading package conll2002 to\n",
      "[nltk_data]    |     /usr/local/share/nltk_data...\n",
      "[nltk_data]    |   Package conll2002 is already up-to-date!\n",
      "[nltk_data]    | Downloading package conll2007 to\n",
      "[nltk_data]    |     /usr/local/share/nltk_data...\n",
      "[nltk_data]    |   Package conll2007 is already up-to-date!\n",
      "[nltk_data]    | Downloading package crubadan to\n",
      "[nltk_data]    |     /usr/local/share/nltk_data...\n",
      "[nltk_data]    |   Package crubadan is already up-to-date!\n",
      "[nltk_data]    | Downloading package dependency_treebank to\n",
      "[nltk_data]    |     /usr/local/share/nltk_data...\n",
      "[nltk_data]    |   Package dependency_treebank is already up-to-date!\n",
      "[nltk_data]    | Downloading package dolch to\n",
      "[nltk_data]    |     /usr/local/share/nltk_data...\n",
      "[nltk_data]    |   Package dolch is already up-to-date!\n",
      "[nltk_data]    | Downloading package europarl_raw to\n",
      "[nltk_data]    |     /usr/local/share/nltk_data...\n",
      "[nltk_data]    |   Package europarl_raw is already up-to-date!\n",
      "[nltk_data]    | Downloading package floresta to\n",
      "[nltk_data]    |     /usr/local/share/nltk_data...\n",
      "[nltk_data]    |   Package floresta is already up-to-date!\n",
      "[nltk_data]    | Downloading package framenet_v15 to\n",
      "[nltk_data]    |     /usr/local/share/nltk_data...\n",
      "[nltk_data]    |   Package framenet_v15 is already up-to-date!\n",
      "[nltk_data]    | Downloading package framenet_v17 to\n",
      "[nltk_data]    |     /usr/local/share/nltk_data...\n",
      "[nltk_data]    |   Package framenet_v17 is already up-to-date!\n",
      "[nltk_data]    | Downloading package gazetteers to\n",
      "[nltk_data]    |     /usr/local/share/nltk_data...\n",
      "[nltk_data]    |   Package gazetteers is already up-to-date!\n",
      "[nltk_data]    | Downloading package genesis to\n",
      "[nltk_data]    |     /usr/local/share/nltk_data...\n",
      "[nltk_data]    |   Package genesis is already up-to-date!\n",
      "[nltk_data]    | Downloading package gutenberg to\n",
      "[nltk_data]    |     /usr/local/share/nltk_data...\n",
      "[nltk_data]    |   Package gutenberg is already up-to-date!\n",
      "[nltk_data]    | Downloading package ieer to\n",
      "[nltk_data]    |     /usr/local/share/nltk_data...\n",
      "[nltk_data]    |   Package ieer is already up-to-date!\n",
      "[nltk_data]    | Downloading package inaugural to\n",
      "[nltk_data]    |     /usr/local/share/nltk_data...\n",
      "[nltk_data]    |   Package inaugural is already up-to-date!\n",
      "[nltk_data]    | Downloading package indian to\n",
      "[nltk_data]    |     /usr/local/share/nltk_data...\n",
      "[nltk_data]    |   Package indian is already up-to-date!\n",
      "[nltk_data]    | Downloading package jeita to\n",
      "[nltk_data]    |     /usr/local/share/nltk_data...\n",
      "[nltk_data]    |   Package jeita is already up-to-date!\n",
      "[nltk_data]    | Downloading package kimmo to\n",
      "[nltk_data]    |     /usr/local/share/nltk_data...\n",
      "[nltk_data]    |   Package kimmo is already up-to-date!\n",
      "[nltk_data]    | Downloading package knbc to\n",
      "[nltk_data]    |     /usr/local/share/nltk_data...\n",
      "[nltk_data]    |   Package knbc is already up-to-date!\n",
      "[nltk_data]    | Downloading package lin_thesaurus to\n",
      "[nltk_data]    |     /usr/local/share/nltk_data...\n",
      "[nltk_data]    |   Package lin_thesaurus is already up-to-date!\n",
      "[nltk_data]    | Downloading package mac_morpho to\n",
      "[nltk_data]    |     /usr/local/share/nltk_data...\n",
      "[nltk_data]    |   Package mac_morpho is already up-to-date!\n",
      "[nltk_data]    | Downloading package machado to\n",
      "[nltk_data]    |     /usr/local/share/nltk_data...\n",
      "[nltk_data]    |   Package machado is already up-to-date!\n",
      "[nltk_data]    | Downloading package masc_tagged to\n",
      "[nltk_data]    |     /usr/local/share/nltk_data...\n",
      "[nltk_data]    |   Package masc_tagged is already up-to-date!\n",
      "[nltk_data]    | Downloading package moses_sample to\n",
      "[nltk_data]    |     /usr/local/share/nltk_data...\n",
      "[nltk_data]    |   Package moses_sample is already up-to-date!\n",
      "[nltk_data]    | Downloading package movie_reviews to\n",
      "[nltk_data]    |     /usr/local/share/nltk_data...\n",
      "[nltk_data]    |   Package movie_reviews is already up-to-date!\n",
      "[nltk_data]    | Downloading package names to\n",
      "[nltk_data]    |     /usr/local/share/nltk_data...\n",
      "[nltk_data]    |   Package names is already up-to-date!\n",
      "[nltk_data]    | Downloading package nombank.1.0 to\n",
      "[nltk_data]    |     /usr/local/share/nltk_data...\n",
      "[nltk_data]    |   Package nombank.1.0 is already up-to-date!\n",
      "[nltk_data]    | Downloading package nps_chat to\n",
      "[nltk_data]    |     /usr/local/share/nltk_data...\n",
      "[nltk_data]    |   Package nps_chat is already up-to-date!\n",
      "[nltk_data]    | Downloading package omw to\n",
      "[nltk_data]    |     /usr/local/share/nltk_data...\n",
      "[nltk_data]    |   Package omw is already up-to-date!\n",
      "[nltk_data]    | Downloading package opinion_lexicon to\n",
      "[nltk_data]    |     /usr/local/share/nltk_data...\n",
      "[nltk_data]    |   Package opinion_lexicon is already up-to-date!\n",
      "[nltk_data]    | Downloading package paradigms to\n",
      "[nltk_data]    |     /usr/local/share/nltk_data...\n",
      "[nltk_data]    |   Package paradigms is already up-to-date!\n",
      "[nltk_data]    | Downloading package pil to\n",
      "[nltk_data]    |     /usr/local/share/nltk_data...\n",
      "[nltk_data]    |   Package pil is already up-to-date!\n",
      "[nltk_data]    | Downloading package pl196x to\n",
      "[nltk_data]    |     /usr/local/share/nltk_data...\n",
      "[nltk_data]    |   Package pl196x is already up-to-date!\n",
      "[nltk_data]    | Downloading package ppattach to\n",
      "[nltk_data]    |     /usr/local/share/nltk_data...\n",
      "[nltk_data]    |   Package ppattach is already up-to-date!\n",
      "[nltk_data]    | Downloading package problem_reports to\n",
      "[nltk_data]    |     /usr/local/share/nltk_data...\n",
      "[nltk_data]    |   Package problem_reports is already up-to-date!\n",
      "[nltk_data]    | Downloading package propbank to\n",
      "[nltk_data]    |     /usr/local/share/nltk_data...\n",
      "[nltk_data]    |   Package propbank is already up-to-date!\n",
      "[nltk_data]    | Downloading package ptb to\n",
      "[nltk_data]    |     /usr/local/share/nltk_data...\n",
      "[nltk_data]    |   Package ptb is already up-to-date!\n",
      "[nltk_data]    | Downloading package product_reviews_1 to\n",
      "[nltk_data]    |     /usr/local/share/nltk_data...\n",
      "[nltk_data]    |   Package product_reviews_1 is already up-to-date!\n",
      "[nltk_data]    | Downloading package product_reviews_2 to\n",
      "[nltk_data]    |     /usr/local/share/nltk_data...\n",
      "[nltk_data]    |   Package product_reviews_2 is already up-to-date!\n",
      "[nltk_data]    | Downloading package pros_cons to\n",
      "[nltk_data]    |     /usr/local/share/nltk_data...\n",
      "[nltk_data]    |   Package pros_cons is already up-to-date!\n",
      "[nltk_data]    | Downloading package qc to\n",
      "[nltk_data]    |     /usr/local/share/nltk_data...\n",
      "[nltk_data]    |   Package qc is already up-to-date!\n",
      "[nltk_data]    | Downloading package reuters to\n",
      "[nltk_data]    |     /usr/local/share/nltk_data...\n",
      "[nltk_data]    |   Package reuters is already up-to-date!\n",
      "[nltk_data]    | Downloading package rte to\n",
      "[nltk_data]    |     /usr/local/share/nltk_data...\n",
      "[nltk_data]    |   Package rte is already up-to-date!\n",
      "[nltk_data]    | Downloading package semcor to\n",
      "[nltk_data]    |     /usr/local/share/nltk_data...\n",
      "[nltk_data]    |   Package semcor is already up-to-date!\n",
      "[nltk_data]    | Downloading package senseval to\n",
      "[nltk_data]    |     /usr/local/share/nltk_data...\n",
      "[nltk_data]    |   Package senseval is already up-to-date!\n",
      "[nltk_data]    | Downloading package sentiwordnet to\n",
      "[nltk_data]    |     /usr/local/share/nltk_data...\n",
      "[nltk_data]    |   Package sentiwordnet is already up-to-date!\n",
      "[nltk_data]    | Downloading package sentence_polarity to\n",
      "[nltk_data]    |     /usr/local/share/nltk_data...\n",
      "[nltk_data]    |   Package sentence_polarity is already up-to-date!\n",
      "[nltk_data]    | Downloading package shakespeare to\n",
      "[nltk_data]    |     /usr/local/share/nltk_data...\n",
      "[nltk_data]    |   Package shakespeare is already up-to-date!\n",
      "[nltk_data]    | Downloading package sinica_treebank to\n",
      "[nltk_data]    |     /usr/local/share/nltk_data...\n",
      "[nltk_data]    |   Package sinica_treebank is already up-to-date!\n",
      "[nltk_data]    | Downloading package smultron to\n",
      "[nltk_data]    |     /usr/local/share/nltk_data...\n",
      "[nltk_data]    |   Package smultron is already up-to-date!\n",
      "[nltk_data]    | Downloading package state_union to\n",
      "[nltk_data]    |     /usr/local/share/nltk_data...\n",
      "[nltk_data]    |   Package state_union is already up-to-date!\n",
      "[nltk_data]    | Downloading package stopwords to\n",
      "[nltk_data]    |     /usr/local/share/nltk_data...\n",
      "[nltk_data]    |   Package stopwords is already up-to-date!\n",
      "[nltk_data]    | Downloading package subjectivity to\n",
      "[nltk_data]    |     /usr/local/share/nltk_data...\n",
      "[nltk_data]    |   Package subjectivity is already up-to-date!\n",
      "[nltk_data]    | Downloading package swadesh to\n",
      "[nltk_data]    |     /usr/local/share/nltk_data...\n",
      "[nltk_data]    |   Package swadesh is already up-to-date!\n",
      "[nltk_data]    | Downloading package switchboard to\n",
      "[nltk_data]    |     /usr/local/share/nltk_data...\n",
      "[nltk_data]    |   Package switchboard is already up-to-date!\n",
      "[nltk_data]    | Downloading package timit to\n",
      "[nltk_data]    |     /usr/local/share/nltk_data...\n",
      "[nltk_data]    |   Package timit is already up-to-date!\n",
      "[nltk_data]    | Downloading package toolbox to\n",
      "[nltk_data]    |     /usr/local/share/nltk_data...\n",
      "[nltk_data]    |   Package toolbox is already up-to-date!\n",
      "[nltk_data]    | Downloading package treebank to\n",
      "[nltk_data]    |     /usr/local/share/nltk_data...\n",
      "[nltk_data]    |   Package treebank is already up-to-date!\n",
      "[nltk_data]    | Downloading package twitter_samples to\n",
      "[nltk_data]    |     /usr/local/share/nltk_data...\n"
     ]
    },
    {
     "name": "stderr",
     "output_type": "stream",
     "text": [
      "[nltk_data]    |   Package twitter_samples is already up-to-date!\n",
      "[nltk_data]    | Downloading package udhr to\n",
      "[nltk_data]    |     /usr/local/share/nltk_data...\n",
      "[nltk_data]    |   Package udhr is already up-to-date!\n",
      "[nltk_data]    | Downloading package udhr2 to\n",
      "[nltk_data]    |     /usr/local/share/nltk_data...\n",
      "[nltk_data]    |   Package udhr2 is already up-to-date!\n",
      "[nltk_data]    | Downloading package unicode_samples to\n",
      "[nltk_data]    |     /usr/local/share/nltk_data...\n",
      "[nltk_data]    |   Package unicode_samples is already up-to-date!\n",
      "[nltk_data]    | Downloading package universal_treebanks_v20 to\n",
      "[nltk_data]    |     /usr/local/share/nltk_data...\n",
      "[nltk_data]    |   Package universal_treebanks_v20 is already up-to-\n",
      "[nltk_data]    |       date!\n",
      "[nltk_data]    | Downloading package verbnet to\n",
      "[nltk_data]    |     /usr/local/share/nltk_data...\n",
      "[nltk_data]    |   Package verbnet is already up-to-date!\n",
      "[nltk_data]    | Downloading package verbnet3 to\n",
      "[nltk_data]    |     /usr/local/share/nltk_data...\n",
      "[nltk_data]    |   Package verbnet3 is already up-to-date!\n",
      "[nltk_data]    | Downloading package webtext to\n",
      "[nltk_data]    |     /usr/local/share/nltk_data...\n",
      "[nltk_data]    |   Package webtext is already up-to-date!\n",
      "[nltk_data]    | Downloading package wordnet to\n",
      "[nltk_data]    |     /usr/local/share/nltk_data...\n",
      "[nltk_data]    |   Package wordnet is already up-to-date!\n",
      "[nltk_data]    | Downloading package wordnet_ic to\n",
      "[nltk_data]    |     /usr/local/share/nltk_data...\n",
      "[nltk_data]    |   Package wordnet_ic is already up-to-date!\n",
      "[nltk_data]    | Downloading package words to\n",
      "[nltk_data]    |     /usr/local/share/nltk_data...\n",
      "[nltk_data]    |   Package words is already up-to-date!\n",
      "[nltk_data]    | Downloading package ycoe to\n",
      "[nltk_data]    |     /usr/local/share/nltk_data...\n",
      "[nltk_data]    |   Package ycoe is already up-to-date!\n",
      "[nltk_data]    | Downloading package rslp to\n",
      "[nltk_data]    |     /usr/local/share/nltk_data...\n",
      "[nltk_data]    |   Package rslp is already up-to-date!\n",
      "[nltk_data]    | Downloading package maxent_treebank_pos_tagger to\n",
      "[nltk_data]    |     /usr/local/share/nltk_data...\n",
      "[nltk_data]    |   Package maxent_treebank_pos_tagger is already up-\n",
      "[nltk_data]    |       to-date!\n",
      "[nltk_data]    | Downloading package universal_tagset to\n",
      "[nltk_data]    |     /usr/local/share/nltk_data...\n",
      "[nltk_data]    |   Package universal_tagset is already up-to-date!\n",
      "[nltk_data]    | Downloading package maxent_ne_chunker to\n",
      "[nltk_data]    |     /usr/local/share/nltk_data...\n",
      "[nltk_data]    |   Package maxent_ne_chunker is already up-to-date!\n",
      "[nltk_data]    | Downloading package punkt to\n",
      "[nltk_data]    |     /usr/local/share/nltk_data...\n",
      "[nltk_data]    |   Package punkt is already up-to-date!\n",
      "[nltk_data]    | Downloading package book_grammars to\n",
      "[nltk_data]    |     /usr/local/share/nltk_data...\n",
      "[nltk_data]    |   Package book_grammars is already up-to-date!\n",
      "[nltk_data]    | Downloading package sample_grammars to\n",
      "[nltk_data]    |     /usr/local/share/nltk_data...\n",
      "[nltk_data]    |   Package sample_grammars is already up-to-date!\n",
      "[nltk_data]    | Downloading package spanish_grammars to\n",
      "[nltk_data]    |     /usr/local/share/nltk_data...\n",
      "[nltk_data]    |   Package spanish_grammars is already up-to-date!\n",
      "[nltk_data]    | Downloading package basque_grammars to\n",
      "[nltk_data]    |     /usr/local/share/nltk_data...\n",
      "[nltk_data]    |   Package basque_grammars is already up-to-date!\n",
      "[nltk_data]    | Downloading package large_grammars to\n",
      "[nltk_data]    |     /usr/local/share/nltk_data...\n",
      "[nltk_data]    |   Package large_grammars is already up-to-date!\n",
      "[nltk_data]    | Downloading package tagsets to\n",
      "[nltk_data]    |     /usr/local/share/nltk_data...\n",
      "[nltk_data]    |   Package tagsets is already up-to-date!\n",
      "[nltk_data]    | Downloading package snowball_data to\n",
      "[nltk_data]    |     /usr/local/share/nltk_data...\n",
      "[nltk_data]    |   Package snowball_data is already up-to-date!\n",
      "[nltk_data]    | Downloading package bllip_wsj_no_aux to\n",
      "[nltk_data]    |     /usr/local/share/nltk_data...\n",
      "[nltk_data]    |   Package bllip_wsj_no_aux is already up-to-date!\n",
      "[nltk_data]    | Downloading package word2vec_sample to\n",
      "[nltk_data]    |     /usr/local/share/nltk_data...\n",
      "[nltk_data]    |   Package word2vec_sample is already up-to-date!\n",
      "[nltk_data]    | Downloading package panlex_swadesh to\n",
      "[nltk_data]    |     /usr/local/share/nltk_data...\n",
      "[nltk_data]    |   Package panlex_swadesh is already up-to-date!\n",
      "[nltk_data]    | Downloading package mte_teip5 to\n",
      "[nltk_data]    |     /usr/local/share/nltk_data...\n",
      "[nltk_data]    |   Package mte_teip5 is already up-to-date!\n",
      "[nltk_data]    | Downloading package averaged_perceptron_tagger to\n",
      "[nltk_data]    |     /usr/local/share/nltk_data...\n",
      "[nltk_data]    |   Package averaged_perceptron_tagger is already up-\n",
      "[nltk_data]    |       to-date!\n",
      "[nltk_data]    | Downloading package averaged_perceptron_tagger_ru to\n",
      "[nltk_data]    |     /usr/local/share/nltk_data...\n",
      "[nltk_data]    |   Package averaged_perceptron_tagger_ru is already\n",
      "[nltk_data]    |       up-to-date!\n",
      "[nltk_data]    | Downloading package perluniprops to\n",
      "[nltk_data]    |     /usr/local/share/nltk_data...\n",
      "[nltk_data]    |   Package perluniprops is already up-to-date!\n",
      "[nltk_data]    | Downloading package nonbreaking_prefixes to\n",
      "[nltk_data]    |     /usr/local/share/nltk_data...\n",
      "[nltk_data]    |   Package nonbreaking_prefixes is already up-to-date!\n",
      "[nltk_data]    | Downloading package vader_lexicon to\n",
      "[nltk_data]    |     /usr/local/share/nltk_data...\n",
      "[nltk_data]    |   Package vader_lexicon is already up-to-date!\n",
      "[nltk_data]    | Downloading package porter_test to\n",
      "[nltk_data]    |     /usr/local/share/nltk_data...\n",
      "[nltk_data]    |   Package porter_test is already up-to-date!\n",
      "[nltk_data]    | Downloading package wmt15_eval to\n",
      "[nltk_data]    |     /usr/local/share/nltk_data...\n",
      "[nltk_data]    |   Package wmt15_eval is already up-to-date!\n",
      "[nltk_data]    | Downloading package mwa_ppdb to\n",
      "[nltk_data]    |     /usr/local/share/nltk_data...\n",
      "[nltk_data]    |   Package mwa_ppdb is already up-to-date!\n",
      "[nltk_data]    | \n",
      "[nltk_data]  Done downloading collection all\n"
     ]
    }
   ],
   "source": [
    "import re\n",
    "import string\n",
    "import numpy as np\n",
    "import pandas as pd\n",
    "\n",
    "from pyspark.sql.functions import *\n",
    "from pyspark.sql.types import *\n",
    "from pyspark.sql import functions\n",
    "\n",
    "#from pyspark.sql.functions import udf,col\n",
    "import pyspark.ml.feature as ft\n",
    "from pyspark.ml.feature import *\n",
    "from pyspark.context import SparkContext\n",
    "from nltk.tokenize import RegexpTokenizer\n",
    "\n",
    "import pyspark.ml.classification as cl\n",
    "from pyspark.ml.classification import LogisticRegression\n",
    "from pyspark.ml.evaluation import MulticlassClassificationEvaluator\n",
    "from pyspark.ml import Pipeline\n",
    "\n",
    "\n",
    "import matplotlib\n",
    "import matplotlib.pyplot as plt\n",
    "\n",
    "import nltk\n",
    "nltk.download('all')\n",
    "from nltk.corpus import stopwords\n",
    "from nltk.tokenize import sent_tokenize, word_tokenize\n",
    "from nltk.stem.wordnet import WordNetLemmatizer\n"
   ]
  },
  {
   "cell_type": "markdown",
   "metadata": {},
   "source": [
    "### 3.1 Google Could Platform"
   ]
  },
  {
   "cell_type": "markdown",
   "metadata": {},
   "source": [
    "#### 3.1.1 Creating Bucket"
   ]
  },
  {
   "cell_type": "raw",
   "metadata": {},
   "source": [
    "REGION = europe-west2\n",
    "\n",
    "CLUSTERNAME = syyfinal-cluster\n",
    "\n",
    "PROJECT = syy-hw2\n",
    "\n",
    "BUCKET = syyfinal-bucket\n",
    "\n",
    "gsutil mb gs://${BUCKET}"
   ]
  },
  {
   "cell_type": "markdown",
   "metadata": {},
   "source": [
    "#### 3.1.2 Uploading my-actions.sh to syyfinal-bucket"
   ]
  },
  {
   "cell_type": "raw",
   "metadata": {},
   "source": [
    "gsutil cp my-actions.sh gs://${BUCKET}"
   ]
  },
  {
   "cell_type": "markdown",
   "metadata": {},
   "source": [
    "#### 3.1.2 Creating Cluster"
   ]
  },
  {
   "cell_type": "raw",
   "metadata": {},
   "source": [
    "gcloud dataproc clusters create ${CLUSTERNAME} \\\n",
    "    --project ${PROJECT} --region ${REGION} \\\n",
    "    --subnet default --zone europe-west2-a --master-machine-type n1-standard-4 --master-boot-disk-size 500 --num-workers 2 --worker-machine-type n1-standard-4 --worker-boot-disk-size 500 --image-version 1.4-debian10 \\\n",
    "    --initialization-actions gs://dataproc-initialization-actions/jupyter/jupyter.sh,gs://dataproc-initialization-actions/python/pip-install.sh,gs://${BUCKET}/my-actions.sh \\\n",
    "    --metadata 'PIP_PACKAGES=sklearn nltk pandas numpy'"
   ]
  },
  {
   "cell_type": "markdown",
   "metadata": {},
   "source": [
    "## 4. Data Set"
   ]
  },
  {
   "cell_type": "markdown",
   "metadata": {},
   "source": [
    "The Yelp Dataset contains 3 folders, 'JSON', 'Photos', and 'COVID-19 Data'. Five json files in folder 'JSON' and one json files in folder 'COVID-19 Data' are used in this project. There are recordings of 8,635,403 reviews, 160,585 businesses, and 2,189,457 users in Yelp Dataset."
   ]
  },
  {
   "cell_type": "markdown",
   "metadata": {},
   "source": [
    "### 4.1 JSON Folder"
   ]
  },
  {
   "cell_type": "markdown",
   "metadata": {},
   "source": [
    "The size of JSON folder is 4.9GB compressed and 10.9GB uncompressed, which contains five json files: 'yelp_academic_dataset_business.json', 'yelp_academic_dataset_user.json', 'yelp_academic_dataset_review.json', 'yelp_academic_dataset_checkin.json', and 'yelp_academic_dataset_tip.json'. The first three data sets are mainly used in this project."
   ]
  },
  {
   "cell_type": "markdown",
   "metadata": {},
   "source": [
    "### 4.2 COVID-19 Folder"
   ]
  },
  {
   "cell_type": "markdown",
   "metadata": {},
   "source": [
    "The size of COVID-19 Data folder is 14MB compressed and 69MB uncompressed, which contains one json file: 'yelp_academic_dataset_covid_features.json'."
   ]
  },
  {
   "cell_type": "markdown",
   "metadata": {},
   "source": [
    "### 4.3 Loading Data"
   ]
  },
  {
   "cell_type": "code",
   "execution_count": 2,
   "metadata": {},
   "outputs": [],
   "source": [
    "# Upload data to bucket ' syytest'\n",
    "\n",
    "file1 = 'gs://syyfinal-bucket/yelp_academic_dataset_business.json'\n",
    "file2 = 'gs://syyfinal-bucket/yelp_academic_dataset_user.json'\n",
    "file3 = 'gs://syyfinal-bucket/yelp_academic_dataset_review.json'\n",
    "file4 = 'gs://syyfinal-bucket/yelp_academic_dataset_checkin.json'\n",
    "file5 = 'gs://syyfinal-bucket/yelp_academic_dataset_tip.json'\n",
    "file6 = 'gs://syyfinal-bucket/yelp_academic_dataset_covid_features.json'\n",
    "\n",
    "\n",
    "# Read files\n",
    "business = spark.read.json(file1)\n",
    "user = spark.read.json(file2)\n",
    "review = spark.read.json(file3)\n",
    "checkin = spark.read.json(file4)\n",
    "tip = spark.read.json(file5)\n",
    "covid = spark.read.json(file6)\n"
   ]
  },
  {
   "cell_type": "markdown",
   "metadata": {},
   "source": [
    "### 4.4 Schema"
   ]
  },
  {
   "cell_type": "markdown",
   "metadata": {},
   "source": [
    "To infer the structure of dataset, pyspark.sql.DataFrame.printSchema which can provides readable schema in tree format is used. The following tree tables show the shcema of 'business', 'user', 'review', and 'covid'."
   ]
  },
  {
   "cell_type": "code",
   "execution_count": 5,
   "metadata": {
    "scrolled": false
   },
   "outputs": [
    {
     "name": "stdout",
     "output_type": "stream",
     "text": [
      "root\n",
      " |-- address: string (nullable = true)\n",
      " |-- attributes: struct (nullable = true)\n",
      " |    |-- AcceptsInsurance: string (nullable = true)\n",
      " |    |-- AgesAllowed: string (nullable = true)\n",
      " |    |-- Alcohol: string (nullable = true)\n",
      " |    |-- Ambience: string (nullable = true)\n",
      " |    |-- BYOB: string (nullable = true)\n",
      " |    |-- BYOBCorkage: string (nullable = true)\n",
      " |    |-- BestNights: string (nullable = true)\n",
      " |    |-- BikeParking: string (nullable = true)\n",
      " |    |-- BusinessAcceptsBitcoin: string (nullable = true)\n",
      " |    |-- BusinessAcceptsCreditCards: string (nullable = true)\n",
      " |    |-- BusinessParking: string (nullable = true)\n",
      " |    |-- ByAppointmentOnly: string (nullable = true)\n",
      " |    |-- Caters: string (nullable = true)\n",
      " |    |-- CoatCheck: string (nullable = true)\n",
      " |    |-- Corkage: string (nullable = true)\n",
      " |    |-- DietaryRestrictions: string (nullable = true)\n",
      " |    |-- DogsAllowed: string (nullable = true)\n",
      " |    |-- DriveThru: string (nullable = true)\n",
      " |    |-- GoodForDancing: string (nullable = true)\n",
      " |    |-- GoodForKids: string (nullable = true)\n",
      " |    |-- GoodForMeal: string (nullable = true)\n",
      " |    |-- HairSpecializesIn: string (nullable = true)\n",
      " |    |-- HappyHour: string (nullable = true)\n",
      " |    |-- HasTV: string (nullable = true)\n",
      " |    |-- Music: string (nullable = true)\n",
      " |    |-- NoiseLevel: string (nullable = true)\n",
      " |    |-- Open24Hours: string (nullable = true)\n",
      " |    |-- OutdoorSeating: string (nullable = true)\n",
      " |    |-- RestaurantsAttire: string (nullable = true)\n",
      " |    |-- RestaurantsCounterService: string (nullable = true)\n",
      " |    |-- RestaurantsDelivery: string (nullable = true)\n",
      " |    |-- RestaurantsGoodForGroups: string (nullable = true)\n",
      " |    |-- RestaurantsPriceRange2: string (nullable = true)\n",
      " |    |-- RestaurantsReservations: string (nullable = true)\n",
      " |    |-- RestaurantsTableService: string (nullable = true)\n",
      " |    |-- RestaurantsTakeOut: string (nullable = true)\n",
      " |    |-- Smoking: string (nullable = true)\n",
      " |    |-- WheelchairAccessible: string (nullable = true)\n",
      " |    |-- WiFi: string (nullable = true)\n",
      " |-- business_id: string (nullable = true)\n",
      " |-- categories: string (nullable = true)\n",
      " |-- city: string (nullable = true)\n",
      " |-- hours: struct (nullable = true)\n",
      " |    |-- Friday: string (nullable = true)\n",
      " |    |-- Monday: string (nullable = true)\n",
      " |    |-- Saturday: string (nullable = true)\n",
      " |    |-- Sunday: string (nullable = true)\n",
      " |    |-- Thursday: string (nullable = true)\n",
      " |    |-- Tuesday: string (nullable = true)\n",
      " |    |-- Wednesday: string (nullable = true)\n",
      " |-- is_open: long (nullable = true)\n",
      " |-- latitude: double (nullable = true)\n",
      " |-- longitude: double (nullable = true)\n",
      " |-- name: string (nullable = true)\n",
      " |-- postal_code: string (nullable = true)\n",
      " |-- review_count: long (nullable = true)\n",
      " |-- stars: double (nullable = true)\n",
      " |-- state: string (nullable = true)\n",
      "\n"
     ]
    }
   ],
   "source": [
    "business.printSchema()"
   ]
  },
  {
   "cell_type": "code",
   "execution_count": 6,
   "metadata": {},
   "outputs": [
    {
     "name": "stdout",
     "output_type": "stream",
     "text": [
      "root\n",
      " |-- average_stars: double (nullable = true)\n",
      " |-- compliment_cool: long (nullable = true)\n",
      " |-- compliment_cute: long (nullable = true)\n",
      " |-- compliment_funny: long (nullable = true)\n",
      " |-- compliment_hot: long (nullable = true)\n",
      " |-- compliment_list: long (nullable = true)\n",
      " |-- compliment_more: long (nullable = true)\n",
      " |-- compliment_note: long (nullable = true)\n",
      " |-- compliment_photos: long (nullable = true)\n",
      " |-- compliment_plain: long (nullable = true)\n",
      " |-- compliment_profile: long (nullable = true)\n",
      " |-- compliment_writer: long (nullable = true)\n",
      " |-- cool: long (nullable = true)\n",
      " |-- elite: string (nullable = true)\n",
      " |-- fans: long (nullable = true)\n",
      " |-- friends: string (nullable = true)\n",
      " |-- funny: long (nullable = true)\n",
      " |-- name: string (nullable = true)\n",
      " |-- review_count: long (nullable = true)\n",
      " |-- useful: long (nullable = true)\n",
      " |-- user_id: string (nullable = true)\n",
      " |-- yelping_since: string (nullable = true)\n",
      "\n"
     ]
    }
   ],
   "source": [
    "user.printSchema()"
   ]
  },
  {
   "cell_type": "code",
   "execution_count": 7,
   "metadata": {},
   "outputs": [
    {
     "name": "stdout",
     "output_type": "stream",
     "text": [
      "root\n",
      " |-- business_id: string (nullable = true)\n",
      " |-- cool: long (nullable = true)\n",
      " |-- date: string (nullable = true)\n",
      " |-- funny: long (nullable = true)\n",
      " |-- review_id: string (nullable = true)\n",
      " |-- stars: double (nullable = true)\n",
      " |-- text: string (nullable = true)\n",
      " |-- useful: long (nullable = true)\n",
      " |-- user_id: string (nullable = true)\n",
      "\n"
     ]
    }
   ],
   "source": [
    "review.printSchema()"
   ]
  },
  {
   "cell_type": "code",
   "execution_count": 10,
   "metadata": {},
   "outputs": [
    {
     "name": "stdout",
     "output_type": "stream",
     "text": [
      "root\n",
      " |-- Call To Action enabled: string (nullable = true)\n",
      " |-- Covid Banner: string (nullable = true)\n",
      " |-- Grubhub enabled: string (nullable = true)\n",
      " |-- Request a Quote Enabled: string (nullable = true)\n",
      " |-- Temporary Closed Until: string (nullable = true)\n",
      " |-- Virtual Services Offered: string (nullable = true)\n",
      " |-- business_id: string (nullable = true)\n",
      " |-- delivery or takeout: string (nullable = true)\n",
      " |-- highlights: string (nullable = true)\n",
      "\n"
     ]
    }
   ],
   "source": [
    "covid.printSchema()"
   ]
  },
  {
   "cell_type": "markdown",
   "metadata": {},
   "source": [
    "### 4.5 Check if the amout of information matches up with the amount of information provided by Yelp Dataset."
   ]
  },
  {
   "cell_type": "code",
   "execution_count": 11,
   "metadata": {},
   "outputs": [
    {
     "name": "stdout",
     "output_type": "stream",
     "text": [
      "+------------------+\n",
      "|number_of_business|\n",
      "+------------------+\n",
      "|            160585|\n",
      "+------------------+\n",
      "\n"
     ]
    }
   ],
   "source": [
    "# count number_of_business\n",
    "business.createOrReplaceTempView(\"business\")\n",
    "no_of_business= spark.sql('Select count(*) as number_of_business from business')\n",
    "no_of_business.show()\n"
   ]
  },
  {
   "cell_type": "code",
   "execution_count": 12,
   "metadata": {},
   "outputs": [
    {
     "name": "stdout",
     "output_type": "stream",
     "text": [
      "+--------------+\n",
      "|number_of_user|\n",
      "+--------------+\n",
      "|       2189457|\n",
      "+--------------+\n",
      "\n"
     ]
    }
   ],
   "source": [
    "# count number_of_user\n",
    "user.createOrReplaceTempView(\"user\")\n",
    "no_of_user = spark.sql('Select count(*) as number_of_user from user')\n",
    "no_of_user.show()"
   ]
  },
  {
   "cell_type": "code",
   "execution_count": 13,
   "metadata": {},
   "outputs": [
    {
     "name": "stdout",
     "output_type": "stream",
     "text": [
      "+----------------+\n",
      "|number_of_review|\n",
      "+----------------+\n",
      "|         8635403|\n",
      "+----------------+\n",
      "\n"
     ]
    }
   ],
   "source": [
    "# count number_of_review\n",
    "review.createOrReplaceTempView(\"review\")\n",
    "no_of_review=spark.sql('Select count(*) as number_of_review from review')\n",
    "no_of_review.show()"
   ]
  },
  {
   "cell_type": "code",
   "execution_count": 16,
   "metadata": {},
   "outputs": [
    {
     "name": "stdout",
     "output_type": "stream",
     "text": [
      "+---------------------------+\n",
      "|number_of_covid_information|\n",
      "+---------------------------+\n",
      "|                     209795|\n",
      "+---------------------------+\n",
      "\n"
     ]
    }
   ],
   "source": [
    "# count number_of_covid_information\n",
    "covid.createOrReplaceTempView(\"covid\")\n",
    "no_of_covid = spark.sql('Select count(*) as number_of_covid_information from covid')\n",
    "no_of_covid.show()"
   ]
  },
  {
   "cell_type": "markdown",
   "metadata": {},
   "source": [
    "## 5. Preliminary Analysis"
   ]
  },
  {
   "cell_type": "markdown",
   "metadata": {},
   "source": [
    "Spark SQL can be interfaced with SQL and DataFrame API to execute SQL queries and return results in DataFrame. \n",
    "\n",
    "In this section Spark SQL interfaced with DataFrame API is mainly used to analyze business information, user behaviour, reviews content, and COVID-19 information in four JSON files. Furthermore, some observations are illustrated using matplotlib."
   ]
  },
  {
   "cell_type": "markdown",
   "metadata": {},
   "source": [
    "### 5.1 Analysis on business dataset"
   ]
  },
  {
   "cell_type": "markdown",
   "metadata": {},
   "source": [
    "In this section, simple queries are implemented with functions , such as count() and show(), to analysed information of businesses. Besides, results are loaded into Pandas.DataFrame."
   ]
  },
  {
   "cell_type": "markdown",
   "metadata": {},
   "source": [
    "#### 5.1.1 Anaysis on 'categories' in business dataset "
   ]
  },
  {
   "cell_type": "code",
   "execution_count": 17,
   "metadata": {
    "scrolled": true
   },
   "outputs": [
    {
     "data": {
      "text/html": [
       "<div>\n",
       "<style scoped>\n",
       "    .dataframe tbody tr th:only-of-type {\n",
       "        vertical-align: middle;\n",
       "    }\n",
       "\n",
       "    .dataframe tbody tr th {\n",
       "        vertical-align: top;\n",
       "    }\n",
       "\n",
       "    .dataframe thead th {\n",
       "        text-align: right;\n",
       "    }\n",
       "</style>\n",
       "<table border=\"1\" class=\"dataframe\">\n",
       "  <thead>\n",
       "    <tr style=\"text-align: right;\">\n",
       "      <th></th>\n",
       "      <th>category</th>\n",
       "      <th>count</th>\n",
       "    </tr>\n",
       "  </thead>\n",
       "  <tbody>\n",
       "    <tr>\n",
       "      <th>0</th>\n",
       "      <td>Restaurants</td>\n",
       "      <td>50763</td>\n",
       "    </tr>\n",
       "    <tr>\n",
       "      <th>1</th>\n",
       "      <td>Food</td>\n",
       "      <td>29469</td>\n",
       "    </tr>\n",
       "    <tr>\n",
       "      <th>2</th>\n",
       "      <td>Shopping</td>\n",
       "      <td>26205</td>\n",
       "    </tr>\n",
       "    <tr>\n",
       "      <th>3</th>\n",
       "      <td>Beauty &amp; Spas</td>\n",
       "      <td>16574</td>\n",
       "    </tr>\n",
       "    <tr>\n",
       "      <th>4</th>\n",
       "      <td>Home Services</td>\n",
       "      <td>16465</td>\n",
       "    </tr>\n",
       "    <tr>\n",
       "      <th>5</th>\n",
       "      <td>Health &amp; Medical</td>\n",
       "      <td>15102</td>\n",
       "    </tr>\n",
       "    <tr>\n",
       "      <th>6</th>\n",
       "      <td>Local Services</td>\n",
       "      <td>12192</td>\n",
       "    </tr>\n",
       "    <tr>\n",
       "      <th>7</th>\n",
       "      <td>Nightlife</td>\n",
       "      <td>11990</td>\n",
       "    </tr>\n",
       "    <tr>\n",
       "      <th>8</th>\n",
       "      <td>Bars</td>\n",
       "      <td>10741</td>\n",
       "    </tr>\n",
       "    <tr>\n",
       "      <th>9</th>\n",
       "      <td>Automotive</td>\n",
       "      <td>10119</td>\n",
       "    </tr>\n",
       "  </tbody>\n",
       "</table>\n",
       "</div>"
      ],
      "text/plain": [
       "           category  count\n",
       "0       Restaurants  50763\n",
       "1              Food  29469\n",
       "2          Shopping  26205\n",
       "3     Beauty & Spas  16574\n",
       "4     Home Services  16465\n",
       "5  Health & Medical  15102\n",
       "6    Local Services  12192\n",
       "7         Nightlife  11990\n",
       "8              Bars  10741\n",
       "9        Automotive  10119"
      ]
     },
     "execution_count": 17,
     "metadata": {},
     "output_type": "execute_result"
    }
   ],
   "source": [
    "# select categories from business dataset rename category and group businesses within same category\n",
    "# count number of businesses within same category\n",
    "# sort descending\n",
    "business_category=business\\\n",
    ".select(explode(split('categories',', ')).alias('category'))\\\n",
    ".groupBy('category')\n",
    "business_category_count = business_category.count().sort('count', ascending=False)\n",
    "dfbusiness_category_count = business_category_count.toPandas()\n",
    "dfbusiness_category_count.head(10)"
   ]
  },
  {
   "cell_type": "code",
   "execution_count": 18,
   "metadata": {},
   "outputs": [
    {
     "data": {
      "text/plain": [
       "<matplotlib.axes._subplots.AxesSubplot at 0x7f30e9ff59b0>"
      ]
     },
     "execution_count": 18,
     "metadata": {},
     "output_type": "execute_result"
    },
    {
     "data": {
      "image/png": "[encoded data removed]",
      "text/plain": [
       "<Figure size 432x288 with 1 Axes>"
      ]
     },
     "metadata": {
      "needs_background": "light"
     },
     "output_type": "display_data"
    }
   ],
   "source": [
    "dfbusiness_category_count.head(10).plot.bar(x = 'category',\\\n",
    "                                            y = 'count', title='Number of Yelp Business of each category')"
   ]
  },
  {
   "cell_type": "markdown",
   "metadata": {},
   "source": [
    "##### Query observations:\n",
    "From obervations above, highest number of businesses belongs to category of restaurants in Yelp Dataset."
   ]
  },
  {
   "cell_type": "markdown",
   "metadata": {},
   "source": [
    "#### 5.1.2 Anaysis on 'city' in business dataset"
   ]
  },
  {
   "cell_type": "code",
   "execution_count": 19,
   "metadata": {},
   "outputs": [
    {
     "data": {
      "text/html": [
       "<div>\n",
       "<style scoped>\n",
       "    .dataframe tbody tr th:only-of-type {\n",
       "        vertical-align: middle;\n",
       "    }\n",
       "\n",
       "    .dataframe tbody tr th {\n",
       "        vertical-align: top;\n",
       "    }\n",
       "\n",
       "    .dataframe thead th {\n",
       "        text-align: right;\n",
       "    }\n",
       "</style>\n",
       "<table border=\"1\" class=\"dataframe\">\n",
       "  <thead>\n",
       "    <tr style=\"text-align: right;\">\n",
       "      <th></th>\n",
       "      <th>city</th>\n",
       "      <th>count</th>\n",
       "    </tr>\n",
       "  </thead>\n",
       "  <tbody>\n",
       "    <tr>\n",
       "      <th>0</th>\n",
       "      <td>Austin</td>\n",
       "      <td>22416</td>\n",
       "    </tr>\n",
       "    <tr>\n",
       "      <th>1</th>\n",
       "      <td>Portland</td>\n",
       "      <td>18203</td>\n",
       "    </tr>\n",
       "    <tr>\n",
       "      <th>2</th>\n",
       "      <td>Vancouver</td>\n",
       "      <td>13330</td>\n",
       "    </tr>\n",
       "    <tr>\n",
       "      <th>3</th>\n",
       "      <td>Atlanta</td>\n",
       "      <td>12612</td>\n",
       "    </tr>\n",
       "    <tr>\n",
       "      <th>4</th>\n",
       "      <td>Orlando</td>\n",
       "      <td>10637</td>\n",
       "    </tr>\n",
       "    <tr>\n",
       "      <th>5</th>\n",
       "      <td>Boston</td>\n",
       "      <td>8263</td>\n",
       "    </tr>\n",
       "    <tr>\n",
       "      <th>6</th>\n",
       "      <td>Columbus</td>\n",
       "      <td>6634</td>\n",
       "    </tr>\n",
       "    <tr>\n",
       "      <th>7</th>\n",
       "      <td>Boulder</td>\n",
       "      <td>2542</td>\n",
       "    </tr>\n",
       "    <tr>\n",
       "      <th>8</th>\n",
       "      <td>Cambridge</td>\n",
       "      <td>2433</td>\n",
       "    </tr>\n",
       "    <tr>\n",
       "      <th>9</th>\n",
       "      <td>Beaverton</td>\n",
       "      <td>2252</td>\n",
       "    </tr>\n",
       "  </tbody>\n",
       "</table>\n",
       "</div>"
      ],
      "text/plain": [
       "        city  count\n",
       "0     Austin  22416\n",
       "1   Portland  18203\n",
       "2  Vancouver  13330\n",
       "3    Atlanta  12612\n",
       "4    Orlando  10637\n",
       "5     Boston   8263\n",
       "6   Columbus   6634\n",
       "7    Boulder   2542\n",
       "8  Cambridge   2433\n",
       "9  Beaverton   2252"
      ]
     },
     "execution_count": 19,
     "metadata": {},
     "output_type": "execute_result"
    }
   ],
   "source": [
    "# select city from business dataset and group businesses within same city\n",
    "# count number of businesses within same city\n",
    "# sort descending\n",
    "business_city=business.groupBy('city')\n",
    "business_city_count=business_city.count().sort('count', ascending=False)\n",
    "dfbusiness_city_count = business_city_count.toPandas()\n",
    "dfbusiness_city_count.head(10)"
   ]
  },
  {
   "cell_type": "code",
   "execution_count": 20,
   "metadata": {
    "scrolled": false
   },
   "outputs": [
    {
     "data": {
      "text/plain": [
       "<matplotlib.axes._subplots.AxesSubplot at 0x7f30ec764eb8>"
      ]
     },
     "execution_count": 20,
     "metadata": {},
     "output_type": "execute_result"
    },
    {
     "data": {
      "image/png": "[encoded data removed]",
      "text/plain": [
       "<Figure size 432x288 with 1 Axes>"
      ]
     },
     "metadata": {
      "needs_background": "light"
     },
     "output_type": "display_data"
    }
   ],
   "source": [
    "dfbusiness_city_count.head(10).plot.bar(x = 'city', y = 'count', title='Number of Yelp Business of each city')"
   ]
  },
  {
   "cell_type": "markdown",
   "metadata": {},
   "source": [
    "##### Query observations:\n",
    "From obervations above, Austin has the most businesses in the Yelp Dataset."
   ]
  },
  {
   "cell_type": "markdown",
   "metadata": {},
   "source": [
    "#### 5.1.3 Anaysis on 'is_open' in business dataset"
   ]
  },
  {
   "cell_type": "code",
   "execution_count": 21,
   "metadata": {},
   "outputs": [
    {
     "data": {
      "text/plain": [
       "123248"
      ]
     },
     "execution_count": 21,
     "metadata": {},
     "output_type": "execute_result"
    }
   ],
   "source": [
    "## filter open businesses from business dataset\n",
    "# count number of open businesses \n",
    "# sort descending\n",
    "business_open=business.filter(business.is_open == '1').alias('open')\n",
    "business_open_count = business_open.count()\n",
    "business_open_count\n"
   ]
  },
  {
   "cell_type": "code",
   "execution_count": 22,
   "metadata": {},
   "outputs": [
    {
     "data": {
      "text/plain": [
       "37337"
      ]
     },
     "execution_count": 22,
     "metadata": {},
     "output_type": "execute_result"
    }
   ],
   "source": [
    "## filter closed businesses from business dataset\n",
    "# count number of closed businesses \n",
    "# sort descending\n",
    "business_closed=business.filter(business.is_open == '0').alias('closed')\n",
    "business_closed_count = business_closed.count()\n",
    "business_closed_count\n"
   ]
  },
  {
   "cell_type": "code",
   "execution_count": 23,
   "metadata": {},
   "outputs": [
    {
     "data": {
      "text/html": [
       "<div>\n",
       "<style scoped>\n",
       "    .dataframe tbody tr th:only-of-type {\n",
       "        vertical-align: middle;\n",
       "    }\n",
       "\n",
       "    .dataframe tbody tr th {\n",
       "        vertical-align: top;\n",
       "    }\n",
       "\n",
       "    .dataframe thead th {\n",
       "        text-align: right;\n",
       "    }\n",
       "</style>\n",
       "<table border=\"1\" class=\"dataframe\">\n",
       "  <thead>\n",
       "    <tr style=\"text-align: right;\">\n",
       "      <th></th>\n",
       "      <th>count</th>\n",
       "    </tr>\n",
       "    <tr>\n",
       "      <th>is_open</th>\n",
       "      <th></th>\n",
       "    </tr>\n",
       "  </thead>\n",
       "  <tbody>\n",
       "    <tr>\n",
       "      <th>1</th>\n",
       "      <td>123248</td>\n",
       "    </tr>\n",
       "    <tr>\n",
       "      <th>0</th>\n",
       "      <td>37337</td>\n",
       "    </tr>\n",
       "  </tbody>\n",
       "</table>\n",
       "</div>"
      ],
      "text/plain": [
       "          count\n",
       "is_open        \n",
       "1        123248\n",
       "0         37337"
      ]
     },
     "execution_count": 23,
     "metadata": {},
     "output_type": "execute_result"
    }
   ],
   "source": [
    "business_open_closed = business.groupBy('is_open')\n",
    "business_open_closed_count = business_open_closed.count().sort('count', ascending=False)\n",
    "dfbusiness_open_closed_count = business_open_closed_count.toPandas()\n",
    "dfbusiness_open_closed_count = dfbusiness_open_closed_count.set_index('is_open')\n",
    "dfbusiness_open_closed_count"
   ]
  },
  {
   "cell_type": "code",
   "execution_count": 24,
   "metadata": {},
   "outputs": [
    {
     "data": {
      "text/plain": [
       "<matplotlib.axes._subplots.AxesSubplot at 0x7f30e8c4d780>"
      ]
     },
     "execution_count": 24,
     "metadata": {},
     "output_type": "execute_result"
    },
    {
     "data": {
      "image/png": "[encoded data removed]",
      "text/plain": [
       "<Figure size 432x288 with 1 Axes>"
      ]
     },
     "metadata": {},
     "output_type": "display_data"
    }
   ],
   "source": [
    "dfbusiness_open_closed_count.plot.pie( y = 'count', title='Number of open=1/closed=0 business',autopct='%1.11f%%')"
   ]
  },
  {
   "cell_type": "markdown",
   "metadata": {},
   "source": [
    "##### Query observations:\n",
    "Almost 23.3% of businesses are closed until now in Yelp Dataset."
   ]
  },
  {
   "cell_type": "markdown",
   "metadata": {},
   "source": [
    "#### 5.1.4 Anaysis on 'stars' in business dataset"
   ]
  },
  {
   "cell_type": "code",
   "execution_count": 25,
   "metadata": {},
   "outputs": [
    {
     "data": {
      "text/html": [
       "<div>\n",
       "<style scoped>\n",
       "    .dataframe tbody tr th:only-of-type {\n",
       "        vertical-align: middle;\n",
       "    }\n",
       "\n",
       "    .dataframe tbody tr th {\n",
       "        vertical-align: top;\n",
       "    }\n",
       "\n",
       "    .dataframe thead th {\n",
       "        text-align: right;\n",
       "    }\n",
       "</style>\n",
       "<table border=\"1\" class=\"dataframe\">\n",
       "  <thead>\n",
       "    <tr style=\"text-align: right;\">\n",
       "      <th></th>\n",
       "      <th>stars</th>\n",
       "      <th>count</th>\n",
       "    </tr>\n",
       "  </thead>\n",
       "  <tbody>\n",
       "    <tr>\n",
       "      <th>0</th>\n",
       "      <td>5.0</td>\n",
       "      <td>19953</td>\n",
       "    </tr>\n",
       "    <tr>\n",
       "      <th>1</th>\n",
       "      <td>4.5</td>\n",
       "      <td>28072</td>\n",
       "    </tr>\n",
       "    <tr>\n",
       "      <th>2</th>\n",
       "      <td>4.0</td>\n",
       "      <td>34056</td>\n",
       "    </tr>\n",
       "    <tr>\n",
       "      <th>3</th>\n",
       "      <td>3.5</td>\n",
       "      <td>28835</td>\n",
       "    </tr>\n",
       "    <tr>\n",
       "      <th>4</th>\n",
       "      <td>3.0</td>\n",
       "      <td>21583</td>\n",
       "    </tr>\n",
       "    <tr>\n",
       "      <th>5</th>\n",
       "      <td>2.5</td>\n",
       "      <td>13720</td>\n",
       "    </tr>\n",
       "    <tr>\n",
       "      <th>6</th>\n",
       "      <td>2.0</td>\n",
       "      <td>8523</td>\n",
       "    </tr>\n",
       "    <tr>\n",
       "      <th>7</th>\n",
       "      <td>1.5</td>\n",
       "      <td>4157</td>\n",
       "    </tr>\n",
       "    <tr>\n",
       "      <th>8</th>\n",
       "      <td>1.0</td>\n",
       "      <td>1686</td>\n",
       "    </tr>\n",
       "  </tbody>\n",
       "</table>\n",
       "</div>"
      ],
      "text/plain": [
       "   stars  count\n",
       "0    5.0  19953\n",
       "1    4.5  28072\n",
       "2    4.0  34056\n",
       "3    3.5  28835\n",
       "4    3.0  21583\n",
       "5    2.5  13720\n",
       "6    2.0   8523\n",
       "7    1.5   4157\n",
       "8    1.0   1686"
      ]
     },
     "execution_count": 25,
     "metadata": {},
     "output_type": "execute_result"
    }
   ],
   "source": [
    "# group businesses has same stars\n",
    "# count number of businesses with same stars\n",
    "# sort with stars descending\n",
    "business_star=business.groupBy('stars').count().sort('stars', ascending=False)\n",
    "dfbusiness_star = business_star.toPandas()\n",
    "dfbusiness_star"
   ]
  },
  {
   "cell_type": "code",
   "execution_count": 26,
   "metadata": {
    "scrolled": true
   },
   "outputs": [
    {
     "data": {
      "text/plain": [
       "<matplotlib.axes._subplots.AxesSubplot at 0x7f30e807fa58>"
      ]
     },
     "execution_count": 26,
     "metadata": {},
     "output_type": "execute_result"
    },
    {
     "data": {
      "image/png": "[encoded data removed]",
      "text/plain": [
       "<Figure size 432x288 with 1 Axes>"
      ]
     },
     "metadata": {
      "needs_background": "light"
     },
     "output_type": "display_data"
    }
   ],
   "source": [
    "dfbusiness_star = dfbusiness_star\n",
    "dfbusiness_star.plot.bar(x = 'stars', y='count', title='Number of Yelp Business of each star')\n"
   ]
  },
  {
   "cell_type": "markdown",
   "metadata": {},
   "source": [
    "##### Query observations:\n",
    "Most of businesses are rated 4 stars and most businesses perform well with high ratings (>3)."
   ]
  },
  {
   "cell_type": "markdown",
   "metadata": {},
   "source": [
    "#### 5.1.5 Anaysis on 'state' in business dataset"
   ]
  },
  {
   "cell_type": "code",
   "execution_count": 27,
   "metadata": {},
   "outputs": [
    {
     "data": {
      "text/html": [
       "<div>\n",
       "<style scoped>\n",
       "    .dataframe tbody tr th:only-of-type {\n",
       "        vertical-align: middle;\n",
       "    }\n",
       "\n",
       "    .dataframe tbody tr th {\n",
       "        vertical-align: top;\n",
       "    }\n",
       "\n",
       "    .dataframe thead th {\n",
       "        text-align: right;\n",
       "    }\n",
       "</style>\n",
       "<table border=\"1\" class=\"dataframe\">\n",
       "  <thead>\n",
       "    <tr style=\"text-align: right;\">\n",
       "      <th></th>\n",
       "      <th>state</th>\n",
       "      <th>count</th>\n",
       "    </tr>\n",
       "  </thead>\n",
       "  <tbody>\n",
       "    <tr>\n",
       "      <th>0</th>\n",
       "      <td>MA</td>\n",
       "      <td>36012</td>\n",
       "    </tr>\n",
       "    <tr>\n",
       "      <th>1</th>\n",
       "      <td>OR</td>\n",
       "      <td>25175</td>\n",
       "    </tr>\n",
       "    <tr>\n",
       "      <th>2</th>\n",
       "      <td>TX</td>\n",
       "      <td>24485</td>\n",
       "    </tr>\n",
       "    <tr>\n",
       "      <th>3</th>\n",
       "      <td>FL</td>\n",
       "      <td>21907</td>\n",
       "    </tr>\n",
       "    <tr>\n",
       "      <th>4</th>\n",
       "      <td>GA</td>\n",
       "      <td>18090</td>\n",
       "    </tr>\n",
       "    <tr>\n",
       "      <th>5</th>\n",
       "      <td>BC</td>\n",
       "      <td>17298</td>\n",
       "    </tr>\n",
       "    <tr>\n",
       "      <th>6</th>\n",
       "      <td>OH</td>\n",
       "      <td>11258</td>\n",
       "    </tr>\n",
       "    <tr>\n",
       "      <th>7</th>\n",
       "      <td>CO</td>\n",
       "      <td>3198</td>\n",
       "    </tr>\n",
       "    <tr>\n",
       "      <th>8</th>\n",
       "      <td>WA</td>\n",
       "      <td>3121</td>\n",
       "    </tr>\n",
       "    <tr>\n",
       "      <th>9</th>\n",
       "      <td>CA</td>\n",
       "      <td>13</td>\n",
       "    </tr>\n",
       "  </tbody>\n",
       "</table>\n",
       "</div>"
      ],
      "text/plain": [
       "  state  count\n",
       "0    MA  36012\n",
       "1    OR  25175\n",
       "2    TX  24485\n",
       "3    FL  21907\n",
       "4    GA  18090\n",
       "5    BC  17298\n",
       "6    OH  11258\n",
       "7    CO   3198\n",
       "8    WA   3121\n",
       "9    CA     13"
      ]
     },
     "execution_count": 27,
     "metadata": {},
     "output_type": "execute_result"
    }
   ],
   "source": [
    "## group businesses within same state\n",
    "# count number of businesses within same state\n",
    "# sort with count descending\n",
    "business_state=business.groupBy('state').count().sort('count', ascending=False)\n",
    "dfbusiness_state = business_state.toPandas()\n",
    "dfbusiness_state.head(10)"
   ]
  },
  {
   "cell_type": "code",
   "execution_count": 28,
   "metadata": {},
   "outputs": [
    {
     "data": {
      "text/plain": [
       "<matplotlib.axes._subplots.AxesSubplot at 0x7f30d39b3c50>"
      ]
     },
     "execution_count": 28,
     "metadata": {},
     "output_type": "execute_result"
    },
    {
     "data": {
      "image/png": "[encoded data removed]",
      "text/plain": [
       "<Figure size 432x288 with 1 Axes>"
      ]
     },
     "metadata": {
      "needs_background": "light"
     },
     "output_type": "display_data"
    }
   ],
   "source": [
    "dfbusiness_state.head(10).plot.bar(x = 'state', y='count', title='Number of Yelp Business of each state')"
   ]
  },
  {
   "cell_type": "markdown",
   "metadata": {},
   "source": [
    "##### Query observations:\n",
    "From obervations above, Massachusetts has the most businesses of all states in the Yelp Dataset."
   ]
  },
  {
   "cell_type": "markdown",
   "metadata": {},
   "source": [
    "### 5.2 Analysis on user dataset"
   ]
  },
  {
   "cell_type": "markdown",
   "metadata": {},
   "source": [
    "In this section, some information of user are analysed."
   ]
  },
  {
   "cell_type": "markdown",
   "metadata": {},
   "source": [
    "#### 5.2.1 Anaysis on 'yelping_since' in user dataset"
   ]
  },
  {
   "cell_type": "markdown",
   "metadata": {},
   "source": [
    " withColumn() is implemented to add new column in dataframe."
   ]
  },
  {
   "cell_type": "code",
   "execution_count": 31,
   "metadata": {},
   "outputs": [
    {
     "data": {
      "text/html": [
       "<div>\n",
       "<style scoped>\n",
       "    .dataframe tbody tr th:only-of-type {\n",
       "        vertical-align: middle;\n",
       "    }\n",
       "\n",
       "    .dataframe tbody tr th {\n",
       "        vertical-align: top;\n",
       "    }\n",
       "\n",
       "    .dataframe thead th {\n",
       "        text-align: right;\n",
       "    }\n",
       "</style>\n",
       "<table border=\"1\" class=\"dataframe\">\n",
       "  <thead>\n",
       "    <tr style=\"text-align: right;\">\n",
       "      <th></th>\n",
       "      <th>user_id</th>\n",
       "      <th>yelping_since</th>\n",
       "      <th>year</th>\n",
       "      <th>month</th>\n",
       "      <th>day</th>\n",
       "      <th>hour</th>\n",
       "      <th>minute</th>\n",
       "      <th>second</th>\n",
       "    </tr>\n",
       "  </thead>\n",
       "  <tbody>\n",
       "    <tr>\n",
       "      <th>0</th>\n",
       "      <td>fFGPBtsutYpn3A155Sf75Q</td>\n",
       "      <td>2004-10-12 08:46:11</td>\n",
       "      <td>2004</td>\n",
       "      <td>10</td>\n",
       "      <td>12</td>\n",
       "      <td>08</td>\n",
       "      <td>46</td>\n",
       "      <td>11</td>\n",
       "    </tr>\n",
       "    <tr>\n",
       "      <th>1</th>\n",
       "      <td>nkN_do3fJ9xekchVC-v68A</td>\n",
       "      <td>2004-10-12 08:46:43</td>\n",
       "      <td>2004</td>\n",
       "      <td>10</td>\n",
       "      <td>12</td>\n",
       "      <td>08</td>\n",
       "      <td>46</td>\n",
       "      <td>43</td>\n",
       "    </tr>\n",
       "    <tr>\n",
       "      <th>2</th>\n",
       "      <td>RU7bd3h2f6pBlf8BfAyxGQ</td>\n",
       "      <td>2004-10-12 08:47:20</td>\n",
       "      <td>2004</td>\n",
       "      <td>10</td>\n",
       "      <td>12</td>\n",
       "      <td>08</td>\n",
       "      <td>47</td>\n",
       "      <td>20</td>\n",
       "    </tr>\n",
       "    <tr>\n",
       "      <th>3</th>\n",
       "      <td>wqoXYLWmpkEH0YvTmHBsJQ</td>\n",
       "      <td>2004-10-12 08:51:07</td>\n",
       "      <td>2004</td>\n",
       "      <td>10</td>\n",
       "      <td>12</td>\n",
       "      <td>08</td>\n",
       "      <td>51</td>\n",
       "      <td>07</td>\n",
       "    </tr>\n",
       "    <tr>\n",
       "      <th>4</th>\n",
       "      <td>iiruNMRBWMdxqRtaVIMPkA</td>\n",
       "      <td>2004-10-12 09:17:53</td>\n",
       "      <td>2004</td>\n",
       "      <td>10</td>\n",
       "      <td>12</td>\n",
       "      <td>09</td>\n",
       "      <td>17</td>\n",
       "      <td>53</td>\n",
       "    </tr>\n",
       "    <tr>\n",
       "      <th>5</th>\n",
       "      <td>9549vDBw7ab0cuc930BQ1g</td>\n",
       "      <td>2004-10-12 10:00:59</td>\n",
       "      <td>2004</td>\n",
       "      <td>10</td>\n",
       "      <td>12</td>\n",
       "      <td>10</td>\n",
       "      <td>00</td>\n",
       "      <td>59</td>\n",
       "    </tr>\n",
       "    <tr>\n",
       "      <th>6</th>\n",
       "      <td>23J4vG9_xxxdnmi8CBX7Ng</td>\n",
       "      <td>2004-10-12 12:29:35</td>\n",
       "      <td>2004</td>\n",
       "      <td>10</td>\n",
       "      <td>12</td>\n",
       "      <td>12</td>\n",
       "      <td>29</td>\n",
       "      <td>35</td>\n",
       "    </tr>\n",
       "    <tr>\n",
       "      <th>7</th>\n",
       "      <td>LFLpi-FfgDW4zpcdz3hfSQ</td>\n",
       "      <td>2004-10-12 13:27:53</td>\n",
       "      <td>2004</td>\n",
       "      <td>10</td>\n",
       "      <td>12</td>\n",
       "      <td>13</td>\n",
       "      <td>27</td>\n",
       "      <td>53</td>\n",
       "    </tr>\n",
       "    <tr>\n",
       "      <th>8</th>\n",
       "      <td>xIYFwwrwxSFyz1IjVfHTkg</td>\n",
       "      <td>2004-10-12 14:10:17</td>\n",
       "      <td>2004</td>\n",
       "      <td>10</td>\n",
       "      <td>12</td>\n",
       "      <td>14</td>\n",
       "      <td>10</td>\n",
       "      <td>17</td>\n",
       "    </tr>\n",
       "    <tr>\n",
       "      <th>9</th>\n",
       "      <td>KKOM5feU4TzZmUEY24y02Q</td>\n",
       "      <td>2004-10-12 14:42:04</td>\n",
       "      <td>2004</td>\n",
       "      <td>10</td>\n",
       "      <td>12</td>\n",
       "      <td>14</td>\n",
       "      <td>42</td>\n",
       "      <td>04</td>\n",
       "    </tr>\n",
       "  </tbody>\n",
       "</table>\n",
       "</div>"
      ],
      "text/plain": [
       "                  user_id        yelping_since  year month day hour minute  \\\n",
       "0  fFGPBtsutYpn3A155Sf75Q  2004-10-12 08:46:11  2004    10  12   08     46   \n",
       "1  nkN_do3fJ9xekchVC-v68A  2004-10-12 08:46:43  2004    10  12   08     46   \n",
       "2  RU7bd3h2f6pBlf8BfAyxGQ  2004-10-12 08:47:20  2004    10  12   08     47   \n",
       "3  wqoXYLWmpkEH0YvTmHBsJQ  2004-10-12 08:51:07  2004    10  12   08     51   \n",
       "4  iiruNMRBWMdxqRtaVIMPkA  2004-10-12 09:17:53  2004    10  12   09     17   \n",
       "5  9549vDBw7ab0cuc930BQ1g  2004-10-12 10:00:59  2004    10  12   10     00   \n",
       "6  23J4vG9_xxxdnmi8CBX7Ng  2004-10-12 12:29:35  2004    10  12   12     29   \n",
       "7  LFLpi-FfgDW4zpcdz3hfSQ  2004-10-12 13:27:53  2004    10  12   13     27   \n",
       "8  xIYFwwrwxSFyz1IjVfHTkg  2004-10-12 14:10:17  2004    10  12   14     10   \n",
       "9  KKOM5feU4TzZmUEY24y02Q  2004-10-12 14:42:04  2004    10  12   14     42   \n",
       "\n",
       "  second  \n",
       "0     11  \n",
       "1     43  \n",
       "2     20  \n",
       "3     07  \n",
       "4     53  \n",
       "5     59  \n",
       "6     35  \n",
       "7     53  \n",
       "8     17  \n",
       "9     04  "
      ]
     },
     "execution_count": 31,
     "metadata": {},
     "output_type": "execute_result"
    }
   ],
   "source": [
    "user_since = user.select('user_id', 'yelping_since')\n",
    "user_since= user_since.withColumn('year', split(user_since['yelping_since'], '[- :]').getItem(0)) \\\n",
    "       .withColumn('month', split(user_since['yelping_since'], '[- :]').getItem(1)) \\\n",
    "       .withColumn('day', split(user_since['yelping_since'], '[- :]').getItem(2))\\\n",
    "        .withColumn('hour', split(user_since['yelping_since'], '[- :]').getItem(3))\\\n",
    "        .withColumn('minute', split(user_since['yelping_since'], '[- :]').getItem(4))\\\n",
    "        .withColumn('second', split(user_since['yelping_since'], '[- :]').getItem(5)) \\\n",
    "        .sort(asc('year'),asc('month'),asc('day'),asc('hour'), asc('minute'),asc('second'))\n",
    "dfuser_since=user_since.toPandas()\n",
    "dfuser_since.head(10)"
   ]
  },
  {
   "cell_type": "markdown",
   "metadata": {},
   "source": [
    "##### Query observations:\n",
    "Yelp was founded in 2004 and the first user joined Yelp at 08:46:11 on 12 October, 2004."
   ]
  },
  {
   "cell_type": "code",
   "execution_count": 32,
   "metadata": {},
   "outputs": [
    {
     "data": {
      "text/html": [
       "<div>\n",
       "<style scoped>\n",
       "    .dataframe tbody tr th:only-of-type {\n",
       "        vertical-align: middle;\n",
       "    }\n",
       "\n",
       "    .dataframe tbody tr th {\n",
       "        vertical-align: top;\n",
       "    }\n",
       "\n",
       "    .dataframe thead th {\n",
       "        text-align: right;\n",
       "    }\n",
       "</style>\n",
       "<table border=\"1\" class=\"dataframe\">\n",
       "  <thead>\n",
       "    <tr style=\"text-align: right;\">\n",
       "      <th></th>\n",
       "      <th>year</th>\n",
       "      <th>count</th>\n",
       "    </tr>\n",
       "  </thead>\n",
       "  <tbody>\n",
       "    <tr>\n",
       "      <th>0</th>\n",
       "      <td>2004</td>\n",
       "      <td>126</td>\n",
       "    </tr>\n",
       "    <tr>\n",
       "      <th>1</th>\n",
       "      <td>2005</td>\n",
       "      <td>1615</td>\n",
       "    </tr>\n",
       "    <tr>\n",
       "      <th>2</th>\n",
       "      <td>2006</td>\n",
       "      <td>8218</td>\n",
       "    </tr>\n",
       "    <tr>\n",
       "      <th>3</th>\n",
       "      <td>2007</td>\n",
       "      <td>23911</td>\n",
       "    </tr>\n",
       "    <tr>\n",
       "      <th>4</th>\n",
       "      <td>2008</td>\n",
       "      <td>47701</td>\n",
       "    </tr>\n",
       "    <tr>\n",
       "      <th>5</th>\n",
       "      <td>2009</td>\n",
       "      <td>94315</td>\n",
       "    </tr>\n",
       "    <tr>\n",
       "      <th>6</th>\n",
       "      <td>2010</td>\n",
       "      <td>148041</td>\n",
       "    </tr>\n",
       "    <tr>\n",
       "      <th>7</th>\n",
       "      <td>2011</td>\n",
       "      <td>224158</td>\n",
       "    </tr>\n",
       "    <tr>\n",
       "      <th>8</th>\n",
       "      <td>2012</td>\n",
       "      <td>233502</td>\n",
       "    </tr>\n",
       "    <tr>\n",
       "      <th>9</th>\n",
       "      <td>2013</td>\n",
       "      <td>242864</td>\n",
       "    </tr>\n",
       "    <tr>\n",
       "      <th>10</th>\n",
       "      <td>2014</td>\n",
       "      <td>265124</td>\n",
       "    </tr>\n",
       "    <tr>\n",
       "      <th>11</th>\n",
       "      <td>2015</td>\n",
       "      <td>267516</td>\n",
       "    </tr>\n",
       "    <tr>\n",
       "      <th>12</th>\n",
       "      <td>2016</td>\n",
       "      <td>229356</td>\n",
       "    </tr>\n",
       "    <tr>\n",
       "      <th>13</th>\n",
       "      <td>2017</td>\n",
       "      <td>159533</td>\n",
       "    </tr>\n",
       "    <tr>\n",
       "      <th>14</th>\n",
       "      <td>2018</td>\n",
       "      <td>126518</td>\n",
       "    </tr>\n",
       "    <tr>\n",
       "      <th>15</th>\n",
       "      <td>2019</td>\n",
       "      <td>85451</td>\n",
       "    </tr>\n",
       "    <tr>\n",
       "      <th>16</th>\n",
       "      <td>2020</td>\n",
       "      <td>28835</td>\n",
       "    </tr>\n",
       "    <tr>\n",
       "      <th>17</th>\n",
       "      <td>2021</td>\n",
       "      <td>2673</td>\n",
       "    </tr>\n",
       "  </tbody>\n",
       "</table>\n",
       "</div>"
      ],
      "text/plain": [
       "    year   count\n",
       "0   2004     126\n",
       "1   2005    1615\n",
       "2   2006    8218\n",
       "3   2007   23911\n",
       "4   2008   47701\n",
       "5   2009   94315\n",
       "6   2010  148041\n",
       "7   2011  224158\n",
       "8   2012  233502\n",
       "9   2013  242864\n",
       "10  2014  265124\n",
       "11  2015  267516\n",
       "12  2016  229356\n",
       "13  2017  159533\n",
       "14  2018  126518\n",
       "15  2019   85451\n",
       "16  2020   28835\n",
       "17  2021    2673"
      ]
     },
     "execution_count": 32,
     "metadata": {},
     "output_type": "execute_result"
    }
   ],
   "source": [
    "user_join = user_since.groupBy('year').count().sort('year')\n",
    "dfuser_join = user_join.toPandas()\n",
    "dfuser_join"
   ]
  },
  {
   "cell_type": "code",
   "execution_count": 33,
   "metadata": {},
   "outputs": [
    {
     "data": {
      "text/plain": [
       "<matplotlib.axes._subplots.AxesSubplot at 0x7f30b78ed898>"
      ]
     },
     "execution_count": 33,
     "metadata": {},
     "output_type": "execute_result"
    },
    {
     "data": {
      "image/png": "[encoded data removed]",
      "text/plain": [
       "<Figure size 432x288 with 1 Axes>"
      ]
     },
     "metadata": {
      "needs_background": "light"
     },
     "output_type": "display_data"
    }
   ],
   "source": [
    "dfuser_join.plot.line(x = 'year', y='count', title='Number of new user join Yelp in each year')"
   ]
  },
  {
   "cell_type": "markdown",
   "metadata": {},
   "source": [
    "##### Query observations:\n",
    "There was a rapid increase in the number of new users from year 2004 to year 2015 and maximum growth rate of new users is in 2015, with 267516 new users. After 2015, fewer and fewer new users joined Yelp in each year. In 2020, new users is 28835, which is a one third of 2019. This might be caused by the COVID-19."
   ]
  },
  {
   "cell_type": "markdown",
   "metadata": {},
   "source": [
    "#### 5.2.2 Anaysis on 'friends' in user dataset"
   ]
  },
  {
   "cell_type": "code",
   "execution_count": 34,
   "metadata": {},
   "outputs": [
    {
     "name": "stdout",
     "output_type": "stream",
     "text": [
      "+-----------------------+------+\n",
      "|userid                 |count |\n",
      "+-----------------------+------+\n",
      "|None                   |956004|\n",
      "| Oi1qbcz2m2SnwUeztGYcnQ|6328  |\n",
      "| qVc8ODYU5SZjKXVBgXdI7w|4448  |\n",
      "| hizGc5W1tBHPghM5YKCAtg|4363  |\n",
      "| JjXuiru1_ONzDkYVrHN0aw|4359  |\n",
      "| YttDgOC9AlM4HcAlDsbB2A|4339  |\n",
      "| 8lEywHSvti2UjFP8ODbnHg|4231  |\n",
      "| mV4lknblF-zOKSF8nlGqDA|4227  |\n",
      "| hdzTAN8DGJKRddkZ8279JQ|4167  |\n",
      "| lZbotco47bHU7oE5b3d1DA|4164  |\n",
      "+-----------------------+------+\n",
      "only showing top 10 rows\n",
      "\n"
     ]
    }
   ],
   "source": [
    "user_friends = user.select('friends')\n",
    "user_friends = user_friends.withColumn('userid', explode(split(col('friends'), ',')))\\\n",
    "    .groupBy('userid')\\\n",
    "    .count()\\\n",
    "    .sort('count', ascending=False)\\\n",
    "    .show(10,False)\n",
    "#dfuser_friends = user_friends.toPandas()\n",
    "#dfuser_friends.head(10)\n",
    "  "
   ]
  },
  {
   "cell_type": "markdown",
   "metadata": {},
   "source": [
    "##### Query observations:\n",
    "There are 956004 yelp users who have no friend relationship with other yelp user."
   ]
  },
  {
   "cell_type": "markdown",
   "metadata": {},
   "source": [
    "### 5.3 Analysis on review dataset"
   ]
  },
  {
   "cell_type": "markdown",
   "metadata": {},
   "source": [
    "In this section, some information of reviews is analysed."
   ]
  },
  {
   "cell_type": "markdown",
   "metadata": {},
   "source": [
    "#### 5.3.1 Analysis on 'stars' in review dataset"
   ]
  },
  {
   "cell_type": "code",
   "execution_count": 35,
   "metadata": {},
   "outputs": [
    {
     "data": {
      "text/html": [
       "<div>\n",
       "<style scoped>\n",
       "    .dataframe tbody tr th:only-of-type {\n",
       "        vertical-align: middle;\n",
       "    }\n",
       "\n",
       "    .dataframe tbody tr th {\n",
       "        vertical-align: top;\n",
       "    }\n",
       "\n",
       "    .dataframe thead th {\n",
       "        text-align: right;\n",
       "    }\n",
       "</style>\n",
       "<table border=\"1\" class=\"dataframe\">\n",
       "  <thead>\n",
       "    <tr style=\"text-align: right;\">\n",
       "      <th></th>\n",
       "      <th>stars</th>\n",
       "      <th>count</th>\n",
       "    </tr>\n",
       "  </thead>\n",
       "  <tbody>\n",
       "    <tr>\n",
       "      <th>0</th>\n",
       "      <td>1.0</td>\n",
       "      <td>1262800</td>\n",
       "    </tr>\n",
       "    <tr>\n",
       "      <th>1</th>\n",
       "      <td>2.0</td>\n",
       "      <td>711378</td>\n",
       "    </tr>\n",
       "    <tr>\n",
       "      <th>2</th>\n",
       "      <td>3.0</td>\n",
       "      <td>926656</td>\n",
       "    </tr>\n",
       "    <tr>\n",
       "      <th>3</th>\n",
       "      <td>4.0</td>\n",
       "      <td>1920037</td>\n",
       "    </tr>\n",
       "    <tr>\n",
       "      <th>4</th>\n",
       "      <td>5.0</td>\n",
       "      <td>3814532</td>\n",
       "    </tr>\n",
       "  </tbody>\n",
       "</table>\n",
       "</div>"
      ],
      "text/plain": [
       "   stars    count\n",
       "0    1.0  1262800\n",
       "1    2.0   711378\n",
       "2    3.0   926656\n",
       "3    4.0  1920037\n",
       "4    5.0  3814532"
      ]
     },
     "execution_count": 35,
     "metadata": {},
     "output_type": "execute_result"
    }
   ],
   "source": [
    "review_stars = review.groupBy('stars').count().sort('stars')\n",
    "dfreview_stars = review_stars.toPandas()\n",
    "dfreview_stars\n"
   ]
  },
  {
   "cell_type": "code",
   "execution_count": 36,
   "metadata": {},
   "outputs": [
    {
     "data": {
      "text/plain": [
       "<matplotlib.axes._subplots.AxesSubplot at 0x7f30961a2be0>"
      ]
     },
     "execution_count": 36,
     "metadata": {},
     "output_type": "execute_result"
    },
    {
     "data": {
      "image/png": "[encoded data removed]",
      "text/plain": [
       "<Figure size 432x288 with 1 Axes>"
      ]
     },
     "metadata": {
      "needs_background": "light"
     },
     "output_type": "display_data"
    }
   ],
   "source": [
    "dfreview_stars.plot.bar(x = 'stars', y='count', title='Number of Yelp review of each star')"
   ]
  },
  {
   "cell_type": "markdown",
   "metadata": {},
   "source": [
    "##### Query observations:\n",
    "Most of reviews has a 4-star and 5-star rating for businesses. Besides, Reviews with 5-star is almost twice as many as reviews with 4-star, in Yelp Dataset."
   ]
  },
  {
   "cell_type": "markdown",
   "metadata": {},
   "source": [
    "#### 5.3.2 Analysis on 'review_count' in review dataset"
   ]
  },
  {
   "cell_type": "markdown",
   "metadata": {},
   "source": [
    "Following query is used to identify number of reviews written for each business "
   ]
  },
  {
   "cell_type": "code",
   "execution_count": 5,
   "metadata": {},
   "outputs": [
    {
     "data": {
      "text/html": [
       "<div>\n",
       "<style scoped>\n",
       "    .dataframe tbody tr th:only-of-type {\n",
       "        vertical-align: middle;\n",
       "    }\n",
       "\n",
       "    .dataframe tbody tr th {\n",
       "        vertical-align: top;\n",
       "    }\n",
       "\n",
       "    .dataframe thead th {\n",
       "        text-align: right;\n",
       "    }\n",
       "</style>\n",
       "<table border=\"1\" class=\"dataframe\">\n",
       "  <thead>\n",
       "    <tr style=\"text-align: right;\">\n",
       "      <th></th>\n",
       "      <th>business_id</th>\n",
       "      <th>total_reviews</th>\n",
       "    </tr>\n",
       "  </thead>\n",
       "  <tbody>\n",
       "    <tr>\n",
       "      <th>0</th>\n",
       "      <td>4CxF8c3MB7VAdY8zFb2cZQ</td>\n",
       "      <td>9295</td>\n",
       "    </tr>\n",
       "    <tr>\n",
       "      <th>1</th>\n",
       "      <td>OQ2oHkcWA8KNC1Lsvj1SBA</td>\n",
       "      <td>7394</td>\n",
       "    </tr>\n",
       "    <tr>\n",
       "      <th>2</th>\n",
       "      <td>PrsvO1rzkgg6qFizlAoEtg</td>\n",
       "      <td>7385</td>\n",
       "    </tr>\n",
       "    <tr>\n",
       "      <th>3</th>\n",
       "      <td>zioLxtBc9THNS2TOn9xW1w</td>\n",
       "      <td>6325</td>\n",
       "    </tr>\n",
       "    <tr>\n",
       "      <th>4</th>\n",
       "      <td>y2w6rFaO0XEiG5mFfOsiFA</td>\n",
       "      <td>5220</td>\n",
       "    </tr>\n",
       "    <tr>\n",
       "      <th>5</th>\n",
       "      <td>MGzro82Fi4LYvc86acoONQ</td>\n",
       "      <td>5071</td>\n",
       "    </tr>\n",
       "    <tr>\n",
       "      <th>6</th>\n",
       "      <td>cs6HfZNykLVitm09jWFqWg</td>\n",
       "      <td>4901</td>\n",
       "    </tr>\n",
       "    <tr>\n",
       "      <th>7</th>\n",
       "      <td>bZiIIUcpgxh8mpKMDhdqbA</td>\n",
       "      <td>4818</td>\n",
       "    </tr>\n",
       "    <tr>\n",
       "      <th>8</th>\n",
       "      <td>qLJUDPOamhLdbtfbcWyHnA</td>\n",
       "      <td>4628</td>\n",
       "    </tr>\n",
       "    <tr>\n",
       "      <th>9</th>\n",
       "      <td>n73rxa6e6-fTIxQzfv4BuA</td>\n",
       "      <td>4560</td>\n",
       "    </tr>\n",
       "  </tbody>\n",
       "</table>\n",
       "</div>"
      ],
      "text/plain": [
       "              business_id  total_reviews\n",
       "0  4CxF8c3MB7VAdY8zFb2cZQ           9295\n",
       "1  OQ2oHkcWA8KNC1Lsvj1SBA           7394\n",
       "2  PrsvO1rzkgg6qFizlAoEtg           7385\n",
       "3  zioLxtBc9THNS2TOn9xW1w           6325\n",
       "4  y2w6rFaO0XEiG5mFfOsiFA           5220\n",
       "5  MGzro82Fi4LYvc86acoONQ           5071\n",
       "6  cs6HfZNykLVitm09jWFqWg           4901\n",
       "7  bZiIIUcpgxh8mpKMDhdqbA           4818\n",
       "8  qLJUDPOamhLdbtfbcWyHnA           4628\n",
       "9  n73rxa6e6-fTIxQzfv4BuA           4560"
      ]
     },
     "execution_count": 5,
     "metadata": {},
     "output_type": "execute_result"
    }
   ],
   "source": [
    "business_id = business.select('business_id')\n",
    "review_business_id = review.select('business_id')\n",
    "\n",
    "# join business and review with same business id\n",
    "join_business_review = business.select('business_id','name','city').join(review_business_id,'business_id','inner')\n",
    "\n",
    "# total number of reviews of each business\n",
    "review_count = join_business_review.groupBy('business_id').count().sort('count',ascending = False)\n",
    "review_count = review_count.withColumnRenamed('count','total_reviews')\n",
    "dfreview_count = review_count.toPandas()\n",
    "dfreview_count.head(10)\n",
    "#dfreview_count.head(10).plot.bar(x = 'business_id', y='count', title='Number of Yelp review of each star')"
   ]
  },
  {
   "cell_type": "markdown",
   "metadata": {},
   "source": [
    "#### 5.3.3 Analysis on positive, neutral, and negative review"
   ]
  },
  {
   "cell_type": "markdown",
   "metadata": {},
   "source": [
    "Businesses should pay attention to both positive and negative reviews to improve their products and service to retain returned customers and attract new customers."
   ]
  },
  {
   "cell_type": "markdown",
   "metadata": {},
   "source": [
    "A.  Number of positive reviews for each businesses and the percentage of positive reviews."
   ]
  },
  {
   "cell_type": "code",
   "execution_count": 6,
   "metadata": {},
   "outputs": [
    {
     "data": {
      "text/html": [
       "<div>\n",
       "<style scoped>\n",
       "    .dataframe tbody tr th:only-of-type {\n",
       "        vertical-align: middle;\n",
       "    }\n",
       "\n",
       "    .dataframe tbody tr th {\n",
       "        vertical-align: top;\n",
       "    }\n",
       "\n",
       "    .dataframe thead th {\n",
       "        text-align: right;\n",
       "    }\n",
       "</style>\n",
       "<table border=\"1\" class=\"dataframe\">\n",
       "  <thead>\n",
       "    <tr style=\"text-align: right;\">\n",
       "      <th></th>\n",
       "      <th>business_id</th>\n",
       "      <th>name</th>\n",
       "      <th>city</th>\n",
       "      <th>positive_reviews</th>\n",
       "      <th>total_reviews</th>\n",
       "      <th>percentage of positive reviews</th>\n",
       "    </tr>\n",
       "  </thead>\n",
       "  <tbody>\n",
       "    <tr>\n",
       "      <th>0</th>\n",
       "      <td>BSUDAiXd50PAkfFAztVpDw</td>\n",
       "      <td>Aviva by Kameel</td>\n",
       "      <td>Atlanta</td>\n",
       "      <td>1511</td>\n",
       "      <td>1565</td>\n",
       "      <td>96.549521</td>\n",
       "    </tr>\n",
       "    <tr>\n",
       "      <th>1</th>\n",
       "      <td>OPfgKOm_n-ajUo3qjSEgRg</td>\n",
       "      <td>Powell's City of Books</td>\n",
       "      <td>Portland</td>\n",
       "      <td>4148</td>\n",
       "      <td>4332</td>\n",
       "      <td>95.752539</td>\n",
       "    </tr>\n",
       "    <tr>\n",
       "      <th>2</th>\n",
       "      <td>MVm6pgnnd6Sg_LdtUhkGuw</td>\n",
       "      <td>Pip's Original Doughnuts &amp; Chai</td>\n",
       "      <td>Portland</td>\n",
       "      <td>2370</td>\n",
       "      <td>2539</td>\n",
       "      <td>93.343836</td>\n",
       "    </tr>\n",
       "    <tr>\n",
       "      <th>3</th>\n",
       "      <td>S9NvWyHUPsuYK7ObMV43pA</td>\n",
       "      <td>Desta Ethiopian Kitchen</td>\n",
       "      <td>Atlanta</td>\n",
       "      <td>1643</td>\n",
       "      <td>1803</td>\n",
       "      <td>91.125901</td>\n",
       "    </tr>\n",
       "    <tr>\n",
       "      <th>4</th>\n",
       "      <td>IyLLref8p5xTcuO7SpHf-g</td>\n",
       "      <td>Salt &amp; Straw</td>\n",
       "      <td>Portland</td>\n",
       "      <td>1587</td>\n",
       "      <td>1745</td>\n",
       "      <td>90.945559</td>\n",
       "    </tr>\n",
       "    <tr>\n",
       "      <th>5</th>\n",
       "      <td>EqUqaLJxMDxIqvnmaKB4Lw</td>\n",
       "      <td>Portland International Airport - PDX</td>\n",
       "      <td>Portland</td>\n",
       "      <td>1972</td>\n",
       "      <td>2200</td>\n",
       "      <td>89.636364</td>\n",
       "    </tr>\n",
       "    <tr>\n",
       "      <th>6</th>\n",
       "      <td>o_L9Ss4boqq6ZEF9xeSH6Q</td>\n",
       "      <td>Salt &amp; Straw</td>\n",
       "      <td>Portland</td>\n",
       "      <td>3320</td>\n",
       "      <td>3721</td>\n",
       "      <td>89.223327</td>\n",
       "    </tr>\n",
       "    <tr>\n",
       "      <th>7</th>\n",
       "      <td>MGzro82Fi4LYvc86acoONQ</td>\n",
       "      <td>Franklin Barbecue</td>\n",
       "      <td>Austin</td>\n",
       "      <td>4465</td>\n",
       "      <td>5071</td>\n",
       "      <td>88.049694</td>\n",
       "    </tr>\n",
       "    <tr>\n",
       "      <th>8</th>\n",
       "      <td>32hFMl7d-243oMULkn84VQ</td>\n",
       "      <td>The Waffle Window</td>\n",
       "      <td>Portland</td>\n",
       "      <td>1500</td>\n",
       "      <td>1707</td>\n",
       "      <td>87.873462</td>\n",
       "    </tr>\n",
       "    <tr>\n",
       "      <th>9</th>\n",
       "      <td>GJxFtnTqTiokFedNrW9iDQ</td>\n",
       "      <td>Atlanta Breakfast Club</td>\n",
       "      <td>Atlanta</td>\n",
       "      <td>3352</td>\n",
       "      <td>3816</td>\n",
       "      <td>87.840671</td>\n",
       "    </tr>\n",
       "  </tbody>\n",
       "</table>\n",
       "</div>"
      ],
      "text/plain": [
       "              business_id                                  name      city  \\\n",
       "0  BSUDAiXd50PAkfFAztVpDw                       Aviva by Kameel   Atlanta   \n",
       "1  OPfgKOm_n-ajUo3qjSEgRg                Powell's City of Books  Portland   \n",
       "2  MVm6pgnnd6Sg_LdtUhkGuw       Pip's Original Doughnuts & Chai  Portland   \n",
       "3  S9NvWyHUPsuYK7ObMV43pA               Desta Ethiopian Kitchen   Atlanta   \n",
       "4  IyLLref8p5xTcuO7SpHf-g                          Salt & Straw  Portland   \n",
       "5  EqUqaLJxMDxIqvnmaKB4Lw  Portland International Airport - PDX  Portland   \n",
       "6  o_L9Ss4boqq6ZEF9xeSH6Q                          Salt & Straw  Portland   \n",
       "7  MGzro82Fi4LYvc86acoONQ                     Franklin Barbecue    Austin   \n",
       "8  32hFMl7d-243oMULkn84VQ                     The Waffle Window  Portland   \n",
       "9  GJxFtnTqTiokFedNrW9iDQ                Atlanta Breakfast Club   Atlanta   \n",
       "\n",
       "   positive_reviews  total_reviews  percentage of positive reviews  \n",
       "0              1511           1565                       96.549521  \n",
       "1              4148           4332                       95.752539  \n",
       "2              2370           2539                       93.343836  \n",
       "3              1643           1803                       91.125901  \n",
       "4              1587           1745                       90.945559  \n",
       "5              1972           2200                       89.636364  \n",
       "6              3320           3721                       89.223327  \n",
       "7              4465           5071                       88.049694  \n",
       "8              1500           1707                       87.873462  \n",
       "9              3352           3816                       87.840671  "
      ]
     },
     "execution_count": 6,
     "metadata": {},
     "output_type": "execute_result"
    }
   ],
   "source": [
    "#business_id = business.select('business_id')\n",
    "\n",
    "# regard stars >= 4 as positive review\n",
    "review_star_positive = review.filter('stars >=4')\n",
    "business_star_positive = business_id.join(review_star_positive,'business_id','inner')\n",
    "\n",
    "# number of star >= 4 for each business\n",
    "review_group_positive = business_star_positive.groupBy('business_id').count()\n",
    "review_positive = business.select('business_id','name','city').join(review_group_positive,'business_id','inner')\n",
    "review_positive = review_positive.withColumnRenamed(\"count\", \"positive_reviews\")\n",
    "\n",
    "# join review table and positive review table\n",
    "review_positive = review_positive.join(review_count,'business_id','inner')\\\n",
    ".distinct().sort('positive_reviews', ascending = False).limit(100)\n",
    "dfreview_positive=review_positive.toPandas()\n",
    "#dfreview_positive.head(10)\n",
    "\n",
    "# top 10 businesses with highest percentage of positive rate of top 100 businesses with most number of review\n",
    "review_positive_percentage = review_positive\\\n",
    ".withColumn('percentage of positive reviews', (col('positive_reviews')/col('total_reviews'))*100)\\\n",
    ".sort('percentage of positive reviews',ascending = False)\n",
    "dfreview_positive_percentage = review_positive_percentage.toPandas()\n",
    "dfreview_positive_percentage.head(10)"
   ]
  },
  {
   "cell_type": "markdown",
   "metadata": {},
   "source": [
    "##### Query observations:\n",
    "Most of top 10 businesses with highest percentage of positive reviews are from Atlanta and Portland and the percentages of positive reviews of these businesses are all larger than 85%, which means they provide good products and services to their customers in Yelp Dataset."
   ]
  },
  {
   "cell_type": "markdown",
   "metadata": {},
   "source": [
    "B.  Number of neutral reviews for each businesses and the percentage of positive reviews."
   ]
  },
  {
   "cell_type": "code",
   "execution_count": 7,
   "metadata": {},
   "outputs": [
    {
     "data": {
      "text/html": [
       "<div>\n",
       "<style scoped>\n",
       "    .dataframe tbody tr th:only-of-type {\n",
       "        vertical-align: middle;\n",
       "    }\n",
       "\n",
       "    .dataframe tbody tr th {\n",
       "        vertical-align: top;\n",
       "    }\n",
       "\n",
       "    .dataframe thead th {\n",
       "        text-align: right;\n",
       "    }\n",
       "</style>\n",
       "<table border=\"1\" class=\"dataframe\">\n",
       "  <thead>\n",
       "    <tr style=\"text-align: right;\">\n",
       "      <th></th>\n",
       "      <th>business_id</th>\n",
       "      <th>name</th>\n",
       "      <th>city</th>\n",
       "      <th>neutral_reviews</th>\n",
       "      <th>total_reviews</th>\n",
       "      <th>percentage of neutral reviews</th>\n",
       "    </tr>\n",
       "  </thead>\n",
       "  <tbody>\n",
       "    <tr>\n",
       "      <th>0</th>\n",
       "      <td>vITc1UkWLvG9pVdaOxyCnA</td>\n",
       "      <td>Boston Logan International Airport - BOS</td>\n",
       "      <td>Boston</td>\n",
       "      <td>519</td>\n",
       "      <td>1601</td>\n",
       "      <td>32.417239</td>\n",
       "    </tr>\n",
       "    <tr>\n",
       "      <th>1</th>\n",
       "      <td>JwJa6nY_wlZEjagVleWQ-Q</td>\n",
       "      <td>Cheers</td>\n",
       "      <td>Boston</td>\n",
       "      <td>271</td>\n",
       "      <td>971</td>\n",
       "      <td>27.909372</td>\n",
       "    </tr>\n",
       "    <tr>\n",
       "      <th>2</th>\n",
       "      <td>vxihRQq1lzr11W7ReS7bMA</td>\n",
       "      <td>New England Aquarium</td>\n",
       "      <td>Boston</td>\n",
       "      <td>249</td>\n",
       "      <td>928</td>\n",
       "      <td>26.831897</td>\n",
       "    </tr>\n",
       "    <tr>\n",
       "      <th>3</th>\n",
       "      <td>2PxZ-fICnd432NJHefXrcA</td>\n",
       "      <td>Orlando International Airport - MCO</td>\n",
       "      <td>Orlando</td>\n",
       "      <td>709</td>\n",
       "      <td>2709</td>\n",
       "      <td>26.172019</td>\n",
       "    </tr>\n",
       "    <tr>\n",
       "      <th>4</th>\n",
       "      <td>hzSyQBWeoX94WOpUtxuWVg</td>\n",
       "      <td>Mr. Bartley's Gourmet Burgers</td>\n",
       "      <td>Cambridge</td>\n",
       "      <td>324</td>\n",
       "      <td>1271</td>\n",
       "      <td>25.491739</td>\n",
       "    </tr>\n",
       "    <tr>\n",
       "      <th>5</th>\n",
       "      <td>sPhPI3B6tvcJIULhICr-Pg</td>\n",
       "      <td>The Varsity</td>\n",
       "      <td>Atlanta</td>\n",
       "      <td>517</td>\n",
       "      <td>2098</td>\n",
       "      <td>24.642517</td>\n",
       "    </tr>\n",
       "    <tr>\n",
       "      <th>6</th>\n",
       "      <td>oz882XuZCxajKo64Opgq_Q</td>\n",
       "      <td>Barking Crab</td>\n",
       "      <td>Boston</td>\n",
       "      <td>522</td>\n",
       "      <td>2180</td>\n",
       "      <td>23.944954</td>\n",
       "    </tr>\n",
       "    <tr>\n",
       "      <th>7</th>\n",
       "      <td>4CxF8c3MB7VAdY8zFb2cZQ</td>\n",
       "      <td>Voodoo Doughnut - Old Town</td>\n",
       "      <td>Portland</td>\n",
       "      <td>2167</td>\n",
       "      <td>9295</td>\n",
       "      <td>23.313609</td>\n",
       "    </tr>\n",
       "    <tr>\n",
       "      <th>8</th>\n",
       "      <td>MwXqRRjjpwKoEKZBb78ScQ</td>\n",
       "      <td>World of Coca-Cola</td>\n",
       "      <td>Atlanta</td>\n",
       "      <td>364</td>\n",
       "      <td>1617</td>\n",
       "      <td>22.510823</td>\n",
       "    </tr>\n",
       "    <tr>\n",
       "      <th>9</th>\n",
       "      <td>7sxYa0-TwWeWGFr5CvMMkw</td>\n",
       "      <td>Hartsfield-Jackson Atlanta International Airpo...</td>\n",
       "      <td>Atlanta</td>\n",
       "      <td>920</td>\n",
       "      <td>4088</td>\n",
       "      <td>22.504892</td>\n",
       "    </tr>\n",
       "  </tbody>\n",
       "</table>\n",
       "</div>"
      ],
      "text/plain": [
       "              business_id                                               name  \\\n",
       "0  vITc1UkWLvG9pVdaOxyCnA           Boston Logan International Airport - BOS   \n",
       "1  JwJa6nY_wlZEjagVleWQ-Q                                             Cheers   \n",
       "2  vxihRQq1lzr11W7ReS7bMA                               New England Aquarium   \n",
       "3  2PxZ-fICnd432NJHefXrcA                Orlando International Airport - MCO   \n",
       "4  hzSyQBWeoX94WOpUtxuWVg                      Mr. Bartley's Gourmet Burgers   \n",
       "5  sPhPI3B6tvcJIULhICr-Pg                                        The Varsity   \n",
       "6  oz882XuZCxajKo64Opgq_Q                                       Barking Crab   \n",
       "7  4CxF8c3MB7VAdY8zFb2cZQ                         Voodoo Doughnut - Old Town   \n",
       "8  MwXqRRjjpwKoEKZBb78ScQ                                 World of Coca-Cola   \n",
       "9  7sxYa0-TwWeWGFr5CvMMkw  Hartsfield-Jackson Atlanta International Airpo...   \n",
       "\n",
       "        city  neutral_reviews  total_reviews  percentage of neutral reviews  \n",
       "0     Boston              519           1601                      32.417239  \n",
       "1     Boston              271            971                      27.909372  \n",
       "2     Boston              249            928                      26.831897  \n",
       "3    Orlando              709           2709                      26.172019  \n",
       "4  Cambridge              324           1271                      25.491739  \n",
       "5    Atlanta              517           2098                      24.642517  \n",
       "6     Boston              522           2180                      23.944954  \n",
       "7   Portland             2167           9295                      23.313609  \n",
       "8    Atlanta              364           1617                      22.510823  \n",
       "9    Atlanta              920           4088                      22.504892  "
      ]
     },
     "execution_count": 7,
     "metadata": {},
     "output_type": "execute_result"
    }
   ],
   "source": [
    "#business_id = business.select('business_id')\n",
    "\n",
    "# regard stars =3 as neutral review\n",
    "review_star_neutral = review.filter('stars = 3')\n",
    "business_star_neutral = business_id.join(review_star_neutral,'business_id','inner')\n",
    "\n",
    "# number of star =3 for each business\n",
    "review_group_neutral = business_star_neutral.groupBy('business_id').count()\n",
    "review_neutral = business.select('business_id','name','city').join(review_group_neutral,'business_id','inner')\n",
    "review_neutral = review_neutral.withColumnRenamed('count', 'neutral_reviews')\n",
    "\n",
    "# join review table and neutral review table\n",
    "review_neutral = review_neutral.join(review_count,'business_id','inner')\\\n",
    ".distinct().sort('neutral_reviews', ascending = False).limit(100)\n",
    "dfreview_neutral=review_neutral.toPandas()\n",
    "#dfreview_neutral.head(10)\n",
    "\n",
    "# top 10 businesses with highest percentage of neutral rate of top 100 businesses with most number of review\n",
    "review_neutral_percentage = review_neutral\\\n",
    ".withColumn('percentage of neutral reviews', (col('neutral_reviews')/col('total_reviews'))*100)\\\n",
    ".sort('percentage of neutral reviews',ascending = False)\n",
    "dfreview_neutral_percentage = review_neutral_percentage.toPandas()\n",
    "dfreview_neutral_percentage.head(10)\n"
   ]
  },
  {
   "cell_type": "markdown",
   "metadata": {},
   "source": [
    "##### Query observations:\n",
    "Compared with the top 10 percentage of positive reviews or negative reviews, top 10 percentage of neutral reviews are relatively low, which might mean customers who are satisfied or not satisfied with products or services are willing to leave their reviews in Yelp Dataset."
   ]
  },
  {
   "cell_type": "markdown",
   "metadata": {},
   "source": [
    "C.  Number of negative reviews for each businesses and the percentage of positive reviews."
   ]
  },
  {
   "cell_type": "code",
   "execution_count": 8,
   "metadata": {},
   "outputs": [
    {
     "data": {
      "text/html": [
       "<div>\n",
       "<style scoped>\n",
       "    .dataframe tbody tr th:only-of-type {\n",
       "        vertical-align: middle;\n",
       "    }\n",
       "\n",
       "    .dataframe tbody tr th {\n",
       "        vertical-align: top;\n",
       "    }\n",
       "\n",
       "    .dataframe thead th {\n",
       "        text-align: right;\n",
       "    }\n",
       "</style>\n",
       "<table border=\"1\" class=\"dataframe\">\n",
       "  <thead>\n",
       "    <tr style=\"text-align: right;\">\n",
       "      <th></th>\n",
       "      <th>business_id</th>\n",
       "      <th>name</th>\n",
       "      <th>city</th>\n",
       "      <th>negative_reviews</th>\n",
       "      <th>total_reviews</th>\n",
       "      <th>percentage of negative reviews</th>\n",
       "    </tr>\n",
       "  </thead>\n",
       "  <tbody>\n",
       "    <tr>\n",
       "      <th>0</th>\n",
       "      <td>kmtmY04UpdCfWz7sZI6V2w</td>\n",
       "      <td>Avas Flowers</td>\n",
       "      <td>Austin</td>\n",
       "      <td>772</td>\n",
       "      <td>780</td>\n",
       "      <td>98.974359</td>\n",
       "    </tr>\n",
       "    <tr>\n",
       "      <th>1</th>\n",
       "      <td>hpibqRJSGhacWpQFZJZbaQ</td>\n",
       "      <td>Vivint Smart Home</td>\n",
       "      <td>Austin</td>\n",
       "      <td>605</td>\n",
       "      <td>621</td>\n",
       "      <td>97.423510</td>\n",
       "    </tr>\n",
       "    <tr>\n",
       "      <th>2</th>\n",
       "      <td>aRY3fdEgWRH-l0llFnDY5w</td>\n",
       "      <td>Economy Rent a Car</td>\n",
       "      <td>Orlando</td>\n",
       "      <td>790</td>\n",
       "      <td>821</td>\n",
       "      <td>96.224117</td>\n",
       "    </tr>\n",
       "    <tr>\n",
       "      <th>3</th>\n",
       "      <td>yEUy4iifAVtbNbUe9isKVA</td>\n",
       "      <td>Newgistics</td>\n",
       "      <td>Austin</td>\n",
       "      <td>402</td>\n",
       "      <td>418</td>\n",
       "      <td>96.172249</td>\n",
       "    </tr>\n",
       "    <tr>\n",
       "      <th>4</th>\n",
       "      <td>U7spOEyi0TevjuhF-e-9PQ</td>\n",
       "      <td>HomeAway</td>\n",
       "      <td>Austin</td>\n",
       "      <td>534</td>\n",
       "      <td>558</td>\n",
       "      <td>95.698925</td>\n",
       "    </tr>\n",
       "    <tr>\n",
       "      <th>5</th>\n",
       "      <td>8yX7VHwmrh6ZGF24yzGr4w</td>\n",
       "      <td>Signature Rent A Car</td>\n",
       "      <td>Orlando</td>\n",
       "      <td>512</td>\n",
       "      <td>545</td>\n",
       "      <td>93.944954</td>\n",
       "    </tr>\n",
       "    <tr>\n",
       "      <th>6</th>\n",
       "      <td>CpLGxwK7wiUwZ5EtVc0fXA</td>\n",
       "      <td>XFINITY</td>\n",
       "      <td>Boston</td>\n",
       "      <td>335</td>\n",
       "      <td>358</td>\n",
       "      <td>93.575419</td>\n",
       "    </tr>\n",
       "    <tr>\n",
       "      <th>7</th>\n",
       "      <td>PKTzqvKrdX-EC__PfUIJoA</td>\n",
       "      <td>Green Motion Car and Van Rental</td>\n",
       "      <td>Orlando</td>\n",
       "      <td>527</td>\n",
       "      <td>576</td>\n",
       "      <td>91.493056</td>\n",
       "    </tr>\n",
       "    <tr>\n",
       "      <th>8</th>\n",
       "      <td>qvD05l6Q2Inz-NMCAemyKQ</td>\n",
       "      <td>Spectrum</td>\n",
       "      <td>Austin</td>\n",
       "      <td>729</td>\n",
       "      <td>798</td>\n",
       "      <td>91.353383</td>\n",
       "    </tr>\n",
       "    <tr>\n",
       "      <th>9</th>\n",
       "      <td>8NDk1mGHRwHpV7nL9P-tqQ</td>\n",
       "      <td>LaserShip</td>\n",
       "      <td>Woburn</td>\n",
       "      <td>533</td>\n",
       "      <td>586</td>\n",
       "      <td>90.955631</td>\n",
       "    </tr>\n",
       "  </tbody>\n",
       "</table>\n",
       "</div>"
      ],
      "text/plain": [
       "              business_id                             name     city  \\\n",
       "0  kmtmY04UpdCfWz7sZI6V2w                     Avas Flowers   Austin   \n",
       "1  hpibqRJSGhacWpQFZJZbaQ                Vivint Smart Home   Austin   \n",
       "2  aRY3fdEgWRH-l0llFnDY5w               Economy Rent a Car  Orlando   \n",
       "3  yEUy4iifAVtbNbUe9isKVA                       Newgistics   Austin   \n",
       "4  U7spOEyi0TevjuhF-e-9PQ                         HomeAway   Austin   \n",
       "5  8yX7VHwmrh6ZGF24yzGr4w             Signature Rent A Car  Orlando   \n",
       "6  CpLGxwK7wiUwZ5EtVc0fXA                          XFINITY   Boston   \n",
       "7  PKTzqvKrdX-EC__PfUIJoA  Green Motion Car and Van Rental  Orlando   \n",
       "8  qvD05l6Q2Inz-NMCAemyKQ                         Spectrum   Austin   \n",
       "9  8NDk1mGHRwHpV7nL9P-tqQ                        LaserShip   Woburn   \n",
       "\n",
       "   negative_reviews  total_reviews  percentage of negative reviews  \n",
       "0               772            780                       98.974359  \n",
       "1               605            621                       97.423510  \n",
       "2               790            821                       96.224117  \n",
       "3               402            418                       96.172249  \n",
       "4               534            558                       95.698925  \n",
       "5               512            545                       93.944954  \n",
       "6               335            358                       93.575419  \n",
       "7               527            576                       91.493056  \n",
       "8               729            798                       91.353383  \n",
       "9               533            586                       90.955631  "
      ]
     },
     "execution_count": 8,
     "metadata": {},
     "output_type": "execute_result"
    }
   ],
   "source": [
    "#business_id = business.select('business_id')\n",
    "\n",
    "# regard stars <=2 as neutral review\n",
    "review_star_negative = review.filter('stars <= 2')\n",
    "business_star_negative = business_id.join(review_star_negative,'business_id','inner')\n",
    "\n",
    "# number of star =3 for each business\n",
    "review_group_negative = business_star_negative.groupBy('business_id').count()\n",
    "review_negative = business.select('business_id','name','city').join(review_group_negative,'business_id','inner')\n",
    "review_negative = review_negative.withColumnRenamed('count', 'negative_reviews')\n",
    "\n",
    "# join review table and neutral review table\n",
    "review_negative = review_negative.join(review_count,'business_id','inner')\\\n",
    ".distinct().sort('negative_reviews', ascending = False).limit(100)\n",
    "dfreview_negative=review_negative.toPandas()\n",
    "#dfreview_negative.head(10)\n",
    "\n",
    "# top 10 businesses with highest percentage of neutral rate of top 100 businesses with most number of review\n",
    "review_negative_percentage = review_negative\\\n",
    ".withColumn('percentage of negative reviews', (col('negative_reviews')/col('total_reviews'))*100)\\\n",
    ".sort('percentage of negative reviews',ascending = False)\n",
    "dfreview_negative_percentage = review_negative_percentage.toPandas()\n",
    "dfreview_negative_percentage.head(10)"
   ]
  },
  {
   "cell_type": "markdown",
   "metadata": {},
   "source": [
    "##### Query observations:\n",
    "Half of top 10 businesses with highest percentage of negative reviews are from Austin and the percentages of positive reviews of these top 10 businesses are all larger than 90%, which means they provide bad products and services to their customers in Yelp Dataset."
   ]
  },
  {
   "cell_type": "markdown",
   "metadata": {},
   "source": [
    "### 5.4 Analysis on covid dataset"
   ]
  },
  {
   "cell_type": "markdown",
   "metadata": {},
   "source": [
    "The COVID-19 data set is released on June 10, 2020 to help businesses connect to their customers, which contains actions to keep businesses operating under Covid-19, such as virtual services."
   ]
  },
  {
   "cell_type": "markdown",
   "metadata": {},
   "source": [
    "#### 5.4.1 Analysis on 'temporary closed until' in covid dataset"
   ]
  },
  {
   "cell_type": "code",
   "execution_count": 44,
   "metadata": {},
   "outputs": [
    {
     "data": {
      "text/html": [
       "<div>\n",
       "<style scoped>\n",
       "    .dataframe tbody tr th:only-of-type {\n",
       "        vertical-align: middle;\n",
       "    }\n",
       "\n",
       "    .dataframe tbody tr th {\n",
       "        vertical-align: top;\n",
       "    }\n",
       "\n",
       "    .dataframe thead th {\n",
       "        text-align: right;\n",
       "    }\n",
       "</style>\n",
       "<table border=\"1\" class=\"dataframe\">\n",
       "  <thead>\n",
       "    <tr style=\"text-align: right;\">\n",
       "      <th></th>\n",
       "      <th>Temporary Closed Until</th>\n",
       "      <th>count</th>\n",
       "      <th>year</th>\n",
       "      <th>month</th>\n",
       "      <th>day</th>\n",
       "      <th>hour</th>\n",
       "      <th>minute</th>\n",
       "      <th>second</th>\n",
       "    </tr>\n",
       "  </thead>\n",
       "  <tbody>\n",
       "    <tr>\n",
       "      <th>0</th>\n",
       "      <td>FALSE</td>\n",
       "      <td>208014</td>\n",
       "      <td>FALSE</td>\n",
       "      <td>None</td>\n",
       "      <td>None</td>\n",
       "      <td>None</td>\n",
       "      <td>None</td>\n",
       "      <td>None</td>\n",
       "    </tr>\n",
       "    <tr>\n",
       "      <th>1</th>\n",
       "      <td>2020-07-01T00:00:00.000Z</td>\n",
       "      <td>331</td>\n",
       "      <td>2020</td>\n",
       "      <td>07</td>\n",
       "      <td>01</td>\n",
       "      <td>00</td>\n",
       "      <td>00</td>\n",
       "      <td>00.000Z</td>\n",
       "    </tr>\n",
       "    <tr>\n",
       "      <th>2</th>\n",
       "      <td>2020-06-15T00:00:00.000Z</td>\n",
       "      <td>261</td>\n",
       "      <td>2020</td>\n",
       "      <td>06</td>\n",
       "      <td>15</td>\n",
       "      <td>00</td>\n",
       "      <td>00</td>\n",
       "      <td>00.000Z</td>\n",
       "    </tr>\n",
       "    <tr>\n",
       "      <th>3</th>\n",
       "      <td>2020-06-30T00:00:00.000Z</td>\n",
       "      <td>172</td>\n",
       "      <td>2020</td>\n",
       "      <td>06</td>\n",
       "      <td>30</td>\n",
       "      <td>00</td>\n",
       "      <td>00</td>\n",
       "      <td>00.000Z</td>\n",
       "    </tr>\n",
       "    <tr>\n",
       "      <th>4</th>\n",
       "      <td>2020-08-01T00:00:00.000Z</td>\n",
       "      <td>133</td>\n",
       "      <td>2020</td>\n",
       "      <td>08</td>\n",
       "      <td>01</td>\n",
       "      <td>00</td>\n",
       "      <td>00</td>\n",
       "      <td>00.000Z</td>\n",
       "    </tr>\n",
       "    <tr>\n",
       "      <th>5</th>\n",
       "      <td>2020-08-31T00:00:00.000Z</td>\n",
       "      <td>43</td>\n",
       "      <td>2020</td>\n",
       "      <td>08</td>\n",
       "      <td>31</td>\n",
       "      <td>00</td>\n",
       "      <td>00</td>\n",
       "      <td>00.000Z</td>\n",
       "    </tr>\n",
       "    <tr>\n",
       "      <th>6</th>\n",
       "      <td>2020-10-01T00:00:00.000Z</td>\n",
       "      <td>36</td>\n",
       "      <td>2020</td>\n",
       "      <td>10</td>\n",
       "      <td>01</td>\n",
       "      <td>00</td>\n",
       "      <td>00</td>\n",
       "      <td>00.000Z</td>\n",
       "    </tr>\n",
       "    <tr>\n",
       "      <th>7</th>\n",
       "      <td>2020-07-31T00:00:00.000Z</td>\n",
       "      <td>31</td>\n",
       "      <td>2020</td>\n",
       "      <td>07</td>\n",
       "      <td>31</td>\n",
       "      <td>00</td>\n",
       "      <td>00</td>\n",
       "      <td>00.000Z</td>\n",
       "    </tr>\n",
       "    <tr>\n",
       "      <th>8</th>\n",
       "      <td>2020-06-16T00:00:00.000Z</td>\n",
       "      <td>29</td>\n",
       "      <td>2020</td>\n",
       "      <td>06</td>\n",
       "      <td>16</td>\n",
       "      <td>00</td>\n",
       "      <td>00</td>\n",
       "      <td>00.000Z</td>\n",
       "    </tr>\n",
       "    <tr>\n",
       "      <th>9</th>\n",
       "      <td>2021-01-04T00:00:00.000Z</td>\n",
       "      <td>27</td>\n",
       "      <td>2021</td>\n",
       "      <td>01</td>\n",
       "      <td>04</td>\n",
       "      <td>00</td>\n",
       "      <td>00</td>\n",
       "      <td>00.000Z</td>\n",
       "    </tr>\n",
       "    <tr>\n",
       "      <th>10</th>\n",
       "      <td>2020-09-01T00:00:00.000Z</td>\n",
       "      <td>26</td>\n",
       "      <td>2020</td>\n",
       "      <td>09</td>\n",
       "      <td>01</td>\n",
       "      <td>00</td>\n",
       "      <td>00</td>\n",
       "      <td>00.000Z</td>\n",
       "    </tr>\n",
       "    <tr>\n",
       "      <th>11</th>\n",
       "      <td>2020-06-18T00:00:00.000Z</td>\n",
       "      <td>24</td>\n",
       "      <td>2020</td>\n",
       "      <td>06</td>\n",
       "      <td>18</td>\n",
       "      <td>00</td>\n",
       "      <td>00</td>\n",
       "      <td>00.000Z</td>\n",
       "    </tr>\n",
       "    <tr>\n",
       "      <th>12</th>\n",
       "      <td>2020-06-19T00:00:00.000Z</td>\n",
       "      <td>18</td>\n",
       "      <td>2020</td>\n",
       "      <td>06</td>\n",
       "      <td>19</td>\n",
       "      <td>00</td>\n",
       "      <td>00</td>\n",
       "      <td>00.000Z</td>\n",
       "    </tr>\n",
       "    <tr>\n",
       "      <th>13</th>\n",
       "      <td>2020-06-20T00:00:00.000Z</td>\n",
       "      <td>15</td>\n",
       "      <td>2020</td>\n",
       "      <td>06</td>\n",
       "      <td>20</td>\n",
       "      <td>00</td>\n",
       "      <td>00</td>\n",
       "      <td>00.000Z</td>\n",
       "    </tr>\n",
       "    <tr>\n",
       "      <th>14</th>\n",
       "      <td>2020-06-22T00:00:00.000Z</td>\n",
       "      <td>14</td>\n",
       "      <td>2020</td>\n",
       "      <td>06</td>\n",
       "      <td>22</td>\n",
       "      <td>00</td>\n",
       "      <td>00</td>\n",
       "      <td>00.000Z</td>\n",
       "    </tr>\n",
       "    <tr>\n",
       "      <th>15</th>\n",
       "      <td>2020-06-29T00:00:00.000Z</td>\n",
       "      <td>14</td>\n",
       "      <td>2020</td>\n",
       "      <td>06</td>\n",
       "      <td>29</td>\n",
       "      <td>00</td>\n",
       "      <td>00</td>\n",
       "      <td>00.000Z</td>\n",
       "    </tr>\n",
       "    <tr>\n",
       "      <th>16</th>\n",
       "      <td>2020-06-11T00:00:00.000Z</td>\n",
       "      <td>14</td>\n",
       "      <td>2020</td>\n",
       "      <td>06</td>\n",
       "      <td>11</td>\n",
       "      <td>00</td>\n",
       "      <td>00</td>\n",
       "      <td>00.000Z</td>\n",
       "    </tr>\n",
       "    <tr>\n",
       "      <th>17</th>\n",
       "      <td>2020-06-12T00:00:00.000Z</td>\n",
       "      <td>14</td>\n",
       "      <td>2020</td>\n",
       "      <td>06</td>\n",
       "      <td>12</td>\n",
       "      <td>00</td>\n",
       "      <td>00</td>\n",
       "      <td>00.000Z</td>\n",
       "    </tr>\n",
       "    <tr>\n",
       "      <th>18</th>\n",
       "      <td>2020-12-31T00:00:00.000Z</td>\n",
       "      <td>13</td>\n",
       "      <td>2020</td>\n",
       "      <td>12</td>\n",
       "      <td>31</td>\n",
       "      <td>00</td>\n",
       "      <td>00</td>\n",
       "      <td>00.000Z</td>\n",
       "    </tr>\n",
       "    <tr>\n",
       "      <th>19</th>\n",
       "      <td>2021-01-01T00:00:00.000Z</td>\n",
       "      <td>12</td>\n",
       "      <td>2021</td>\n",
       "      <td>01</td>\n",
       "      <td>01</td>\n",
       "      <td>00</td>\n",
       "      <td>00</td>\n",
       "      <td>00.000Z</td>\n",
       "    </tr>\n",
       "  </tbody>\n",
       "</table>\n",
       "</div>"
      ],
      "text/plain": [
       "      Temporary Closed Until   count   year month   day  hour minute   second\n",
       "0                      FALSE  208014  FALSE  None  None  None   None     None\n",
       "1   2020-07-01T00:00:00.000Z     331   2020    07    01    00     00  00.000Z\n",
       "2   2020-06-15T00:00:00.000Z     261   2020    06    15    00     00  00.000Z\n",
       "3   2020-06-30T00:00:00.000Z     172   2020    06    30    00     00  00.000Z\n",
       "4   2020-08-01T00:00:00.000Z     133   2020    08    01    00     00  00.000Z\n",
       "5   2020-08-31T00:00:00.000Z      43   2020    08    31    00     00  00.000Z\n",
       "6   2020-10-01T00:00:00.000Z      36   2020    10    01    00     00  00.000Z\n",
       "7   2020-07-31T00:00:00.000Z      31   2020    07    31    00     00  00.000Z\n",
       "8   2020-06-16T00:00:00.000Z      29   2020    06    16    00     00  00.000Z\n",
       "9   2021-01-04T00:00:00.000Z      27   2021    01    04    00     00  00.000Z\n",
       "10  2020-09-01T00:00:00.000Z      26   2020    09    01    00     00  00.000Z\n",
       "11  2020-06-18T00:00:00.000Z      24   2020    06    18    00     00  00.000Z\n",
       "12  2020-06-19T00:00:00.000Z      18   2020    06    19    00     00  00.000Z\n",
       "13  2020-06-20T00:00:00.000Z      15   2020    06    20    00     00  00.000Z\n",
       "14  2020-06-22T00:00:00.000Z      14   2020    06    22    00     00  00.000Z\n",
       "15  2020-06-29T00:00:00.000Z      14   2020    06    29    00     00  00.000Z\n",
       "16  2020-06-11T00:00:00.000Z      14   2020    06    11    00     00  00.000Z\n",
       "17  2020-06-12T00:00:00.000Z      14   2020    06    12    00     00  00.000Z\n",
       "18  2020-12-31T00:00:00.000Z      13   2020    12    31    00     00  00.000Z\n",
       "19  2021-01-01T00:00:00.000Z      12   2021    01    01    00     00  00.000Z"
      ]
     },
     "execution_count": 44,
     "metadata": {},
     "output_type": "execute_result"
    }
   ],
   "source": [
    "temporary_closed = covid.select('business_id', 'Temporary Closed Until').distinct().groupBy('Temporary Closed Until').count()\n",
    "temporary_closed= temporary_closed.withColumn('year', split(temporary_closed['Temporary Closed Until'], '[- : T z]').getItem(0)) \\\n",
    "       .withColumn('month', split(temporary_closed['Temporary Closed Until'], '[- : T z]').getItem(1)) \\\n",
    "       .withColumn('day', split(temporary_closed['Temporary Closed Until'], '[- : T z]').getItem(2))\\\n",
    "        .withColumn('hour', split(temporary_closed['Temporary Closed Until'], '[- : T z]').getItem(3))\\\n",
    "        .withColumn('minute', split(temporary_closed['Temporary Closed Until'], '[- : T z]').getItem(4))\\\n",
    "        .withColumn('second', split(temporary_closed['Temporary Closed Until'], '[- : T z]').getItem(5)) \\\n",
    "        .sort(desc('count'))\n",
    "dftemporary_closed=temporary_closed.toPandas()\n",
    "dftemporary_closed.head(20)"
   ]
  },
  {
   "cell_type": "markdown",
   "metadata": {},
   "source": [
    "##### Query observations:\n",
    "Most of businesses were reopening during summer in 2020. However, some businesses chose to reopen later in 2021 in Yelp Dataset."
   ]
  },
  {
   "cell_type": "markdown",
   "metadata": {},
   "source": [
    "#### 5.4.2 Analysis on 'Call To Action enabled', 'Grubhub enabled', 'delivery or takeout' in covid dataset"
   ]
  },
  {
   "cell_type": "code",
   "execution_count": 45,
   "metadata": {},
   "outputs": [
    {
     "data": {
      "text/html": [
       "<div>\n",
       "<style scoped>\n",
       "    .dataframe tbody tr th:only-of-type {\n",
       "        vertical-align: middle;\n",
       "    }\n",
       "\n",
       "    .dataframe tbody tr th {\n",
       "        vertical-align: top;\n",
       "    }\n",
       "\n",
       "    .dataframe thead th {\n",
       "        text-align: right;\n",
       "    }\n",
       "</style>\n",
       "<table border=\"1\" class=\"dataframe\">\n",
       "  <thead>\n",
       "    <tr style=\"text-align: right;\">\n",
       "      <th></th>\n",
       "      <th>Call To Action enabled</th>\n",
       "      <th>count</th>\n",
       "    </tr>\n",
       "  </thead>\n",
       "  <tbody>\n",
       "    <tr>\n",
       "      <th>0</th>\n",
       "      <td>FALSE</td>\n",
       "      <td>155728</td>\n",
       "    </tr>\n",
       "    <tr>\n",
       "      <th>1</th>\n",
       "      <td>TRUE</td>\n",
       "      <td>54067</td>\n",
       "    </tr>\n",
       "  </tbody>\n",
       "</table>\n",
       "</div>"
      ],
      "text/plain": [
       "  Call To Action enabled   count\n",
       "0                  FALSE  155728\n",
       "1                   TRUE   54067"
      ]
     },
     "execution_count": 45,
     "metadata": {},
     "output_type": "execute_result"
    }
   ],
   "source": [
    "call_to_action = covid.select('Call To Action enabled').groupBy('Call To Action enabled').count()\n",
    "dfcall_to_action = call_to_action.toPandas()\n",
    "dfcall_to_action"
   ]
  },
  {
   "cell_type": "code",
   "execution_count": 46,
   "metadata": {},
   "outputs": [
    {
     "data": {
      "text/html": [
       "<div>\n",
       "<style scoped>\n",
       "    .dataframe tbody tr th:only-of-type {\n",
       "        vertical-align: middle;\n",
       "    }\n",
       "\n",
       "    .dataframe tbody tr th {\n",
       "        vertical-align: top;\n",
       "    }\n",
       "\n",
       "    .dataframe thead th {\n",
       "        text-align: right;\n",
       "    }\n",
       "</style>\n",
       "<table border=\"1\" class=\"dataframe\">\n",
       "  <thead>\n",
       "    <tr style=\"text-align: right;\">\n",
       "      <th></th>\n",
       "      <th>Grubhub enabled</th>\n",
       "      <th>count</th>\n",
       "    </tr>\n",
       "  </thead>\n",
       "  <tbody>\n",
       "    <tr>\n",
       "      <th>0</th>\n",
       "      <td>FALSE</td>\n",
       "      <td>191802</td>\n",
       "    </tr>\n",
       "    <tr>\n",
       "      <th>1</th>\n",
       "      <td>TRUE</td>\n",
       "      <td>17993</td>\n",
       "    </tr>\n",
       "  </tbody>\n",
       "</table>\n",
       "</div>"
      ],
      "text/plain": [
       "  Grubhub enabled   count\n",
       "0           FALSE  191802\n",
       "1            TRUE   17993"
      ]
     },
     "execution_count": 46,
     "metadata": {},
     "output_type": "execute_result"
    }
   ],
   "source": [
    "grubhub = covid.select('Grubhub enabled').groupBy('Grubhub enabled').count()\n",
    "dfgrubhub = grubhub.toPandas()\n",
    "dfgrubhub"
   ]
  },
  {
   "cell_type": "code",
   "execution_count": 14,
   "metadata": {},
   "outputs": [
    {
     "data": {
      "text/html": [
       "<div>\n",
       "<style scoped>\n",
       "    .dataframe tbody tr th:only-of-type {\n",
       "        vertical-align: middle;\n",
       "    }\n",
       "\n",
       "    .dataframe tbody tr th {\n",
       "        vertical-align: top;\n",
       "    }\n",
       "\n",
       "    .dataframe thead th {\n",
       "        text-align: right;\n",
       "    }\n",
       "</style>\n",
       "<table border=\"1\" class=\"dataframe\">\n",
       "  <thead>\n",
       "    <tr style=\"text-align: right;\">\n",
       "      <th></th>\n",
       "      <th>delivery or takeout</th>\n",
       "      <th>count</th>\n",
       "    </tr>\n",
       "  </thead>\n",
       "  <tbody>\n",
       "    <tr>\n",
       "      <th>0</th>\n",
       "      <td>FALSE</td>\n",
       "      <td>143564</td>\n",
       "    </tr>\n",
       "    <tr>\n",
       "      <th>1</th>\n",
       "      <td>TRUE</td>\n",
       "      <td>66231</td>\n",
       "    </tr>\n",
       "  </tbody>\n",
       "</table>\n",
       "</div>"
      ],
      "text/plain": [
       "  delivery or takeout   count\n",
       "0               FALSE  143564\n",
       "1                TRUE   66231"
      ]
     },
     "execution_count": 14,
     "metadata": {},
     "output_type": "execute_result"
    }
   ],
   "source": [
    "delivery = covid.select('delivery or takeout').groupBy('delivery or takeout').count()\n",
    "dfdelivery = delivery.toPandas()\n",
    "dfdelivery.head()"
   ]
  },
  {
   "cell_type": "markdown",
   "metadata": {},
   "source": [
    "##### Query observations:\n",
    "Most of businesses have not used the 'Call To Action ' button and not partnered with Grubhub. At the same time, only one third businesses provides service of delivery or takeout in Yelp Dataset."
   ]
  },
  {
   "cell_type": "markdown",
   "metadata": {},
   "source": [
    "#### 5.4.3 Analysis on 'Virtual Services Offered' in covid dataset"
   ]
  },
  {
   "cell_type": "code",
   "execution_count": 48,
   "metadata": {},
   "outputs": [
    {
     "data": {
      "text/html": [
       "<div>\n",
       "<style scoped>\n",
       "    .dataframe tbody tr th:only-of-type {\n",
       "        vertical-align: middle;\n",
       "    }\n",
       "\n",
       "    .dataframe tbody tr th {\n",
       "        vertical-align: top;\n",
       "    }\n",
       "\n",
       "    .dataframe thead th {\n",
       "        text-align: right;\n",
       "    }\n",
       "</style>\n",
       "<table border=\"1\" class=\"dataframe\">\n",
       "  <thead>\n",
       "    <tr style=\"text-align: right;\">\n",
       "      <th></th>\n",
       "      <th>Virtual Services Offered</th>\n",
       "      <th>count</th>\n",
       "    </tr>\n",
       "  </thead>\n",
       "  <tbody>\n",
       "    <tr>\n",
       "      <th>0</th>\n",
       "      <td>FALSE</td>\n",
       "      <td>205573</td>\n",
       "    </tr>\n",
       "    <tr>\n",
       "      <th>1</th>\n",
       "      <td>offers_virtual_office_space</td>\n",
       "      <td>1</td>\n",
       "    </tr>\n",
       "    <tr>\n",
       "      <th>2</th>\n",
       "      <td>offers_virtual_tasting_sessions</td>\n",
       "      <td>18</td>\n",
       "    </tr>\n",
       "    <tr>\n",
       "      <th>3</th>\n",
       "      <td>offers_virtual_experiences</td>\n",
       "      <td>24</td>\n",
       "    </tr>\n",
       "    <tr>\n",
       "      <th>4</th>\n",
       "      <td>offers_virtual_tours</td>\n",
       "      <td>821</td>\n",
       "    </tr>\n",
       "  </tbody>\n",
       "</table>\n",
       "</div>"
      ],
      "text/plain": [
       "          Virtual Services Offered   count\n",
       "0                            FALSE  205573\n",
       "1      offers_virtual_office_space       1\n",
       "2  offers_virtual_tasting_sessions      18\n",
       "3       offers_virtual_experiences      24\n",
       "4             offers_virtual_tours     821"
      ]
     },
     "execution_count": 48,
     "metadata": {},
     "output_type": "execute_result"
    }
   ],
   "source": [
    "virtual = covid.select('Virtual Services Offered').groupBy('Virtual Services Offered').count()\n",
    "dfvirtual = virtual.toPandas()\n",
    "dfvirtual.head()"
   ]
  },
  {
   "cell_type": "markdown",
   "metadata": {},
   "source": [
    "##### Query observations:\n",
    "There are four kinds of virtual services offered by businesses and the most common one is virtual tours. However, most of businesses do not provide virtual services in Yelp Dataset."
   ]
  },
  {
   "cell_type": "markdown",
   "metadata": {},
   "source": [
    "#### 5.4.4 Analysis on 'Request a Quote Enabled' in covid dataset"
   ]
  },
  {
   "cell_type": "code",
   "execution_count": 15,
   "metadata": {},
   "outputs": [
    {
     "data": {
      "text/html": [
       "<div>\n",
       "<style scoped>\n",
       "    .dataframe tbody tr th:only-of-type {\n",
       "        vertical-align: middle;\n",
       "    }\n",
       "\n",
       "    .dataframe tbody tr th {\n",
       "        vertical-align: top;\n",
       "    }\n",
       "\n",
       "    .dataframe thead th {\n",
       "        text-align: right;\n",
       "    }\n",
       "</style>\n",
       "<table border=\"1\" class=\"dataframe\">\n",
       "  <thead>\n",
       "    <tr style=\"text-align: right;\">\n",
       "      <th></th>\n",
       "      <th>Request a Quote Enabled</th>\n",
       "      <th>count</th>\n",
       "    </tr>\n",
       "  </thead>\n",
       "  <tbody>\n",
       "    <tr>\n",
       "      <th>0</th>\n",
       "      <td>FALSE</td>\n",
       "      <td>207347</td>\n",
       "    </tr>\n",
       "    <tr>\n",
       "      <th>1</th>\n",
       "      <td>TRUE</td>\n",
       "      <td>2448</td>\n",
       "    </tr>\n",
       "  </tbody>\n",
       "</table>\n",
       "</div>"
      ],
      "text/plain": [
       "  Request a Quote Enabled   count\n",
       "0                   FALSE  207347\n",
       "1                    TRUE    2448"
      ]
     },
     "execution_count": 15,
     "metadata": {},
     "output_type": "execute_result"
    }
   ],
   "source": [
    "quote = covid.select('Request a Quote Enabled').groupBy('Request a Quote Enabled').count()\n",
    "dfquote = quote.toPandas()\n",
    "dfquote.head()"
   ]
  },
  {
   "cell_type": "markdown",
   "metadata": {},
   "source": [
    "##### Query observations:\n",
    "Only 2448 businesses still has 'Request a Quote' enabled."
   ]
  },
  {
   "cell_type": "markdown",
   "metadata": {},
   "source": [
    "## 6. Sentiment Analysis\n"
   ]
  },
  {
   "cell_type": "markdown",
   "metadata": {},
   "source": [
    "In this section, sentiment analysis is implemented to analyse the sentiment of users' reviews. Latent Dirichlet Allocation(LDA) is implemented to identify topics distribution of positive and negative reviews."
   ]
  },
  {
   "cell_type": "markdown",
   "metadata": {},
   "source": [
    "### 6.1Positive, Neutral, and Negative reviews"
   ]
  },
  {
   "cell_type": "markdown",
   "metadata": {},
   "source": [
    "Reviews with star > 3: positive reviews \n",
    "\n",
    "Reviews with star = 3: neutral reviews \n",
    "\n",
    "Reviews with star < 3: negative reviews "
   ]
  },
  {
   "cell_type": "code",
   "execution_count": 4,
   "metadata": {},
   "outputs": [],
   "source": [
    "# classification of sentiment of reviews\n",
    "def sentiment_review (stars):\n",
    "    if stars >3:\n",
    "        return 'Positive'\n",
    "    elif stars ==3:\n",
    "        return 'Neutral'\n",
    "    else:\n",
    "        return 'Negative'\n",
    "\n",
    "# user defined function\n",
    "udfsentiment_review = functions.udf(sentiment_review,StringType())"
   ]
  },
  {
   "cell_type": "markdown",
   "metadata": {},
   "source": [
    "### 6.2 Identifying topics with high frequency in reviews of different sentiment using Latent Dirichlet Allocation "
   ]
  },
  {
   "cell_type": "markdown",
   "metadata": {},
   "source": [
    "#### 1. Latent Dirichlet Allocation (LDA) :\n",
    "\n",
    "LDA is a statistical method which can be used to explain the similarity of some parts of data. \n",
    "\n",
    "In machine learning, LDA is can be used in natural language processing to do topic modelling to classify relevant individual document in a collection. Consequently, LDA is used to find topics in both positive and negative reviews.\n",
    "\n",
    "#### 2. Topic modelling: \n",
    "\n",
    "Topic modelling is used to identify frequency words in a topic, which can be implemented to group different words together and discover similar topics in different documents.\n",
    "\n",
    "#### 3. Measurement:\n",
    "Perplexity is used as measurment of how well a probability model used to predicts a sample, which can be used to compare probability models. A high perplexity indicates that the probability model cannot predict a sample accurately. Consequtly, a probability model with lower perplexity is preferred.\n",
    "\n",
    "\n",
    "#### 4. Implementaton: \n",
    "\n",
    "LDA is implemented in reiview data set to identify topic distribution of text in positive and negative reviews.\n"
   ]
  },
  {
   "cell_type": "markdown",
   "metadata": {},
   "source": [
    "###### Reviews with Sentiment"
   ]
  },
  {
   "cell_type": "code",
   "execution_count": 5,
   "metadata": {},
   "outputs": [
    {
     "name": "stdout",
     "output_type": "stream",
     "text": [
      "+--------------------+-----+--------------------+---------+\n",
      "|           review_id|stars|                text|Sentiment|\n",
      "+--------------------+-----+--------------------+---------+\n",
      "|lWC-xP3rd6obsecCY...|  4.0|Apparently Prides...| Positive|\n",
      "|8bFej1QE5LXp4O05q...|  4.0|This store is pre...| Positive|\n",
      "|NDhkzczKjLshODbqD...|  5.0|I called WVM on t...| Positive|\n",
      "|T5fAqjjFooT4V0OeZ...|  2.0|I've stayed at ma...| Negative|\n",
      "|sjm_uUcQVxab_EeLC...|  4.0|The food is alway...| Positive|\n",
      "+--------------------+-----+--------------------+---------+\n",
      "only showing top 5 rows\n",
      "\n"
     ]
    }
   ],
   "source": [
    "review_sentiment = review.select('review_id','stars','text')\\\n",
    ".withColumn('Sentiment', udfsentiment_review('stars'))\n",
    "review_sentiment.show(5)"
   ]
  },
  {
   "cell_type": "markdown",
   "metadata": {},
   "source": [
    "###### Positive review"
   ]
  },
  {
   "cell_type": "code",
   "execution_count": 6,
   "metadata": {},
   "outputs": [
    {
     "name": "stdout",
     "output_type": "stream",
     "text": [
      "+--------------------+-----+--------------------+---------+\n",
      "|           review_id|stars|                text|Sentiment|\n",
      "+--------------------+-----+--------------------+---------+\n",
      "|lWC-xP3rd6obsecCY...|  4.0|Apparently Prides...| Positive|\n",
      "|8bFej1QE5LXp4O05q...|  4.0|This store is pre...| Positive|\n",
      "|NDhkzczKjLshODbqD...|  5.0|I called WVM on t...| Positive|\n",
      "|sjm_uUcQVxab_EeLC...|  4.0|The food is alway...| Positive|\n",
      "|9vqwvFCBG3FBiHGmO...|  5.0|Probably one of t...| Positive|\n",
      "+--------------------+-----+--------------------+---------+\n",
      "only showing top 5 rows\n",
      "\n"
     ]
    }
   ],
   "source": [
    "positive_review = review_sentiment.filter(review_sentiment.Sentiment== 'Positive')\n",
    "positive_review.show(5)"
   ]
  },
  {
   "cell_type": "markdown",
   "metadata": {},
   "source": [
    "###### Neutral review"
   ]
  },
  {
   "cell_type": "code",
   "execution_count": 7,
   "metadata": {},
   "outputs": [
    {
     "name": "stdout",
     "output_type": "stream",
     "text": [
      "+--------------------+-----+--------------------+---------+\n",
      "|           review_id|stars|                text|Sentiment|\n",
      "+--------------------+-----+--------------------+---------+\n",
      "|GgWFjRHhelaiUgR2-...|  3.0|3.5 stars! I got ...|  Neutral|\n",
      "|oNNTEpc2PmB4w_vy9...|  3.0|\"A Bit Embarrasse...|  Neutral|\n",
      "|ADPWjsySIpmuOSL07...|  3.0|Just had Yalla fo...|  Neutral|\n",
      "|P320Yt8vFD3yjI34h...|  3.0|Overall is good, ...|  Neutral|\n",
      "|ljjT3RaKYLWZOwdWB...|  3.0|Bummer that the p...|  Neutral|\n",
      "+--------------------+-----+--------------------+---------+\n",
      "only showing top 5 rows\n",
      "\n"
     ]
    }
   ],
   "source": [
    "neutral_review = review_sentiment.filter(review_sentiment.Sentiment== 'Neutral')\n",
    "neutral_review.show(5)"
   ]
  },
  {
   "cell_type": "markdown",
   "metadata": {},
   "source": [
    "###### Negative review"
   ]
  },
  {
   "cell_type": "code",
   "execution_count": 8,
   "metadata": {},
   "outputs": [
    {
     "name": "stdout",
     "output_type": "stream",
     "text": [
      "+--------------------+-----+--------------------+---------+\n",
      "|           review_id|stars|                text|Sentiment|\n",
      "+--------------------+-----+--------------------+---------+\n",
      "|T5fAqjjFooT4V0OeZ...|  2.0|I've stayed at ma...| Negative|\n",
      "|J4a2TuhDasjn2k3wW...|  1.0|This place used t...| Negative|\n",
      "|28gGfkLs3igtjVy61...|  2.0|The setting is pe...| Negative|\n",
      "|FdoBFTjXXMn4hVnJ5...|  1.0|They NEVER seem t...| Negative|\n",
      "|Qv_lQb1Yu9DGsUO3r...|  2.0|Disappointing. Bo...| Negative|\n",
      "+--------------------+-----+--------------------+---------+\n",
      "only showing top 5 rows\n",
      "\n"
     ]
    }
   ],
   "source": [
    "negative_review = review_sentiment.filter(review_sentiment.Sentiment== 'Negative')\n",
    "negative_review.show(5)"
   ]
  },
  {
   "cell_type": "markdown",
   "metadata": {},
   "source": [
    "### 6.2.1 Implementation of LDA\n",
    "LDA is implemented to discover topics in Positive and Negative reviews, because it is useful for merchants to identify how to improve their products and services to increase profits."
   ]
  },
  {
   "cell_type": "markdown",
   "metadata": {},
   "source": [
    "### 1) Positive reviews"
   ]
  },
  {
   "cell_type": "code",
   "execution_count": 9,
   "metadata": {},
   "outputs": [],
   "source": [
    "# rdd of positive_review\n",
    "positive_review_rdd = positive_review.rdd\n",
    "\n",
    "# text column\n",
    "positive_review_rdd = positive_review_rdd.map(lambda x : x['text'])"
   ]
  },
  {
   "cell_type": "markdown",
   "metadata": {},
   "source": [
    "#### Parse the data\n",
    "\n",
    "nltk: natural language processing module used for tokenisation and lemmatisation\n",
    "\n",
    "Tokenisation: splitting text into individual words\n",
    "\n",
    "Lemmatisation: grouping inflected words together to produce dictionary form\n"
   ]
  },
  {
   "cell_type": "code",
   "execution_count": 10,
   "metadata": {
    "scrolled": false
   },
   "outputs": [
    {
     "data": {
      "text/plain": [
       "[(1,\n",
       "  ['apparently',\n",
       "   'pride',\n",
       "   'osteria',\n",
       "   'rough',\n",
       "   'summer',\n",
       "   'evidenced',\n",
       "   'almost',\n",
       "   'empty',\n",
       "   'dining',\n",
       "   'room',\n",
       "   'friday',\n",
       "   'night',\n",
       "   'however',\n",
       "   'new',\n",
       "   'blood',\n",
       "   'kitchen',\n",
       "   'seems',\n",
       "   'revitalized',\n",
       "   'food',\n",
       "   'customer',\n",
       "   'recent',\n",
       "   'visit',\n",
       "   'waitstaff',\n",
       "   'warm',\n",
       "   'unobtrusive',\n",
       "   'pm',\n",
       "   'left',\n",
       "   'bar',\n",
       "   'full',\n",
       "   'dining',\n",
       "   'room',\n",
       "   'much',\n",
       "   'lively',\n",
       "   'perhaps',\n",
       "   'beverly',\n",
       "   'resident',\n",
       "   'prefer',\n",
       "   'later',\n",
       "   'seating',\n",
       "   'reading',\n",
       "   'mixed',\n",
       "   'review',\n",
       "   'late',\n",
       "   'little',\n",
       "   'tentative',\n",
       "   'choice',\n",
       "   'luckily',\n",
       "   'nothing',\n",
       "   'worry',\n",
       "   'food',\n",
       "   'department',\n",
       "   'started',\n",
       "   'fried',\n",
       "   'dough',\n",
       "   'burrata',\n",
       "   'prosciutto',\n",
       "   'lovely',\n",
       "   'although',\n",
       "   'nt',\n",
       "   'offer',\n",
       "   'half',\n",
       "   'portion',\n",
       "   'pasta',\n",
       "   'ordered',\n",
       "   'entree',\n",
       "   'size',\n",
       "   'split',\n",
       "   'chose',\n",
       "   'tagliatelle',\n",
       "   'bolognese',\n",
       "   'four',\n",
       "   'cheese',\n",
       "   'filled',\n",
       "   'pasta',\n",
       "   'creamy',\n",
       "   'sauce',\n",
       "   'bacon',\n",
       "   'asparagus',\n",
       "   'grana',\n",
       "   'frita',\n",
       "   'good',\n",
       "   'split',\n",
       "   'secondo',\n",
       "   'special',\n",
       "   'berkshire',\n",
       "   'pork',\n",
       "   'secreto',\n",
       "   'described',\n",
       "   'pork',\n",
       "   'skirt',\n",
       "   'steak',\n",
       "   'garlic',\n",
       "   'potato',\n",
       "   'purée',\n",
       "   'romanesco',\n",
       "   'broccoli',\n",
       "   'incorrectly',\n",
       "   'described',\n",
       "   'romanesco',\n",
       "   'sauce',\n",
       "   'table',\n",
       "   'received',\n",
       "   'bread',\n",
       "   'meal',\n",
       "   'reason',\n",
       "   'management',\n",
       "   'also',\n",
       "   'seems',\n",
       "   'capable',\n",
       "   'tenant',\n",
       "   'apartment',\n",
       "   'began',\n",
       "   'playing',\n",
       "   'basketball',\n",
       "   'intervened',\n",
       "   'also',\n",
       "   'comped',\n",
       "   'table',\n",
       "   'dessert',\n",
       "   'ordered',\n",
       "   'apple',\n",
       "   'dumpling',\n",
       "   'gelato',\n",
       "   'also',\n",
       "   'quite',\n",
       "   'tasty',\n",
       "   'portion',\n",
       "   'huge',\n",
       "   'particularly',\n",
       "   'like',\n",
       "   'prefer',\n",
       "   'order',\n",
       "   'course',\n",
       "   'someone',\n",
       "   'order',\n",
       "   'meal',\n",
       "   'may',\n",
       "   'leave',\n",
       "   'hungry',\n",
       "   'depending',\n",
       "   'appetite',\n",
       "   'dining',\n",
       "   'room',\n",
       "   'mostly',\n",
       "   'younger',\n",
       "   'crowd',\n",
       "   'bar',\n",
       "   'definitely',\n",
       "   'set',\n",
       "   'would',\n",
       "   'recommend',\n",
       "   'naysayer',\n",
       "   'return',\n",
       "   'see',\n",
       "   'improvement',\n",
       "   'although',\n",
       "   'personally',\n",
       "   'nt',\n",
       "   'know',\n",
       "   'former',\n",
       "   'glory',\n",
       "   'able',\n",
       "   'compare',\n",
       "   'easy',\n",
       "   'access',\n",
       "   'downtown',\n",
       "   'salem',\n",
       "   'without',\n",
       "   'crowd',\n",
       "   'month',\n",
       "   'october'])]"
      ]
     },
     "execution_count": 10,
     "metadata": {},
     "output_type": "execute_result"
    }
   ],
   "source": [
    "# Quote from Week09 LDA.ipynb\n",
    "from nltk.tokenize import sent_tokenize, word_tokenize\n",
    "from nltk.corpus import stopwords\n",
    "from nltk.stem.wordnet import WordNetLemmatizer\n",
    "import string\n",
    "stop_words = set(stopwords.words('english')) \n",
    "table = str.maketrans('', '', string.punctuation)\n",
    "lmtzr = WordNetLemmatizer() # see https://www.nltk.org/_modules/nltk/stem/wordnet.html for details\n",
    "\n",
    "def get_tokens(line):\n",
    "    \n",
    "    tokens = word_tokenize(line)\n",
    "    # convert to lower case\n",
    "    tokens = [w.lower() for w in tokens]\n",
    "    # remove punctuations from each word\n",
    "    stripped = [w.translate(table) for w in tokens]\n",
    "    # remove remaining tokens that are not alphabetic\n",
    "    words = [word for word in stripped if word.isalpha()]\n",
    "    # filter out stop words\n",
    "    words = [w for w in words if not w in stop_words]\n",
    "    # lemmatizing the words, see https://en.wikipedia.org/wiki/Lemmatisation\n",
    "    words = [lmtzr.lemmatize(w) for w in words]\n",
    "    return (words)\n",
    "\n",
    "positive_words_rdd = positive_review_rdd.map(lambda line: (1, get_tokens(line)))\n",
    "positive_words_rdd.take(1)"
   ]
  },
  {
   "cell_type": "markdown",
   "metadata": {},
   "source": [
    "Assume words appear more than 10000 times are stop words"
   ]
  },
  {
   "cell_type": "code",
   "execution_count": null,
   "metadata": {},
   "outputs": [
    {
     "data": {
      "text/plain": [
       "['osteria',\n",
       " 'evidenced',\n",
       " 'revitalized',\n",
       " 'unobtrusive',\n",
       " 'beverly',\n",
       " 'tentative',\n",
       " 'burrata',\n",
       " 'tagliatelle',\n",
       " 'bolognese',\n",
       " 'grana']"
      ]
     },
     "execution_count": 11,
     "metadata": {},
     "output_type": "execute_result"
    }
   ],
   "source": [
    "doc_stop_words = positive_words_rdd.flatMap(lambda r: r[1]).map(lambda r: (r,1)).reduceByKey(lambda a,b: a+b)\n",
    "\n",
    "# doc_stop_words.collect()\n",
    "\n",
    "doc_stop_words = doc_stop_words.filter(lambda a: a[1]>10000).map(lambda r: r[0]).collect()\n",
    "\n",
    "# throw away stop words and words that are just single letters.\n",
    "positive_words_rdd = positive_words_rdd.map(lambda r: (r[0],[w for w in r[1] if not w in doc_stop_words and not len(w)==1])) \n",
    "\n",
    "positive_words_rdd.take(1)[0][1][:10]"
   ]
  },
  {
   "cell_type": "markdown",
   "metadata": {},
   "source": [
    "#### Convert tokens into sparse vectors\n",
    "\n",
    "CountVectorizer is a tool, which can be used to transform text into a vector based on the frequency of each word. The histograms of word counts of each document is generated.\n"
   ]
  },
  {
   "cell_type": "code",
   "execution_count": null,
   "metadata": {},
   "outputs": [
    {
     "data": {
      "text/plain": [
       "[Row(dummy=1, words=['osteria', 'evidenced', 'revitalized', 'unobtrusive', 'beverly', 'tentative', 'burrata', 'tagliatelle', 'bolognese', 'grana', 'frita', 'secondo', 'berkshire', 'secreto', 'skirt', 'purée', 'romanesco', 'incorrectly', 'romanesco', 'capable', 'tenant', 'basketball', 'intervened', 'comped', 'naysayer', 'glory', 'october'])]"
      ]
     },
     "execution_count": 12,
     "metadata": {},
     "output_type": "execute_result"
    }
   ],
   "source": [
    "from pyspark.ml.feature import CountVectorizer\n",
    "from pyspark.sql.functions import monotonically_increasing_id\n",
    "\n",
    "positive_words_df = spark.createDataFrame(positive_words_rdd, [\"dummy\",\"words\"])\n",
    "positive_words_df.cache()\n",
    "positive_words_df.take(1)"
   ]
  },
  {
   "cell_type": "code",
   "execution_count": null,
   "metadata": {
    "scrolled": true
   },
   "outputs": [
    {
     "name": "stdout",
     "output_type": "stream",
     "text": [
      "+-----+--------------------+--------------------+\n",
      "|dummy|               words|            features|\n",
      "+-----+--------------------+--------------------+\n",
      "|    1|[osteria, evidenc...|(262144,[165,500,...|\n",
      "|    1|[walmart, milford...|(262144,[63,911,1...|\n",
      "|    1|[wvm, evan, cody,...|(262144,[582,4072...|\n",
      "|    1|              [snag]|(262144,[953],[1.0])|\n",
      "|    1|[eggmeatmuffin, l...|(262144,[761,1885...|\n",
      "|    1|[authority, tenni...|(262144,[589,1468...|\n",
      "|    1|       [pru, chowda]|(262144,[6383,930...|\n",
      "|    1|[flip, venison, s...|(262144,[204,517,...|\n",
      "|    1|[fivestar, mauric...|(262144,[462,983,...|\n",
      "|    1|[ufc, fight, rest...|(262144,[84,611,6...|\n",
      "+-----+--------------------+--------------------+\n",
      "only showing top 10 rows\n",
      "\n"
     ]
    }
   ],
   "source": [
    "cv = CountVectorizer(inputCol=\"words\", outputCol=\"features\", minDF=2)\n",
    "\n",
    "cv_model = cv.fit(positive_words_df)\n",
    "\n",
    "positive_words_df_w_features = cv_model.transform(positive_words_df)\n",
    "positive_words_df_w_features.cache()\n",
    "positive_words_df_w_features.show(10)"
   ]
  },
  {
   "cell_type": "markdown",
   "metadata": {},
   "source": [
    "#### Vocabulary\n",
    "\n",
    "Vocabulary is stored separately using cv_model from the histograms of words for each document."
   ]
  },
  {
   "cell_type": "code",
   "execution_count": null,
   "metadata": {},
   "outputs": [
    {
     "name": "stdout",
     "output_type": "stream",
     "text": [
      "Vocabulary from CountVectorizerModel is:\n",
      "['quinoa', 'ha', 'receipt', 'appears', 'greater', 'alfredo', 'citrus', 'overpowering', 'lean', 'lil', 'pricier', 'mixture', 'trivia', 'painted', 'checkin', 'mexico', 'cab', 'rated', 'remove', 'naturally', 'frill', 'greeting', 'brulee', 'mug', 'cigar', 'magazine', 'female', 'oak', 'sorbet', 'exquisite', 'kidding', 'blackened', 'baklava', 'operation', 'dipped', 'ryan', 'mignon', 'efficiently', 'prop', 'mill', 'fabric', 'cranberry', 'reached', 'canada', 'convinced', 'glaze', 'toward', 'jim', 'speedy', 'iphone', 'addicted', 'code', 'sock', 'smoking', 'reserve', 'estate', 'ship', 'scramble', 'featured', 'pressed', 'retail', 'surely', 'halibut', 'checkout', 'journey', 'au', 'bottled', 'thousand', 'accommodated', 'breath', 'relationship', 'answering', 'vermicelli', 'essentially', 'stretch', 'fed', 'marinara', 'sheet', 'hoped', 'fireplace', 'endless', 'european', 'michelle', 'topnotch', 'fight', 'dense', 'desired', 'effect', 'lip', 'heated', 'listens', 'mission', 'asap', 'genius', 'booze', 'angel', 'flavourful', 'encourage', 'zone', 'injury']\n",
      "\n",
      "---\n",
      "\n",
      "Number of terms W =  262144\n"
     ]
    }
   ],
   "source": [
    "print (\"Vocabulary from CountVectorizerModel is:\")\n",
    "print(cv_model.vocabulary[:100])\n",
    "print(\"\\n---\\n\")\n",
    "\n",
    "W = len(cv_model.vocabulary)\n",
    "print(\"Number of terms W = \", W)"
   ]
  },
  {
   "cell_type": "markdown",
   "metadata": {},
   "source": [
    "#### Latent Dirichlet Allocation\n",
    "\n",
    "Using Latent Dirichlet Allocation to analyse positive_review with k=20."
   ]
  },
  {
   "cell_type": "code",
   "execution_count": null,
   "metadata": {},
   "outputs": [],
   "source": [
    "from pyspark.ml.clustering import LDA\n",
    "\n",
    "lda = LDA(k=20, maxIter=5)\n",
    "\n",
    "lda_model = lda.fit(positive_words_df_w_features)"
   ]
  },
  {
   "cell_type": "markdown",
   "metadata": {},
   "source": [
    "#### Measurement:"
   ]
  },
  {
   "cell_type": "code",
   "execution_count": null,
   "metadata": {},
   "outputs": [],
   "source": [
    "ll = lda_model.logLikelihood(positive_words_df_w_features)\n",
    "\n",
    "lp = lda_model.logPerplexity(positive_words_df_w_features)\n",
    "\n",
    "print(\"The lower bound on the log likelihood of the entire corpus: \" + str(ll))\n",
    "\n",
    "print(\"The upper bound on the perplexity: \" + str(lp))"
   ]
  },
  {
   "cell_type": "code",
   "execution_count": 18,
   "metadata": {},
   "outputs": [
    {
     "name": "stdout",
     "output_type": "stream",
     "text": [
      "The topics described by their top-weighted terms:\n",
      "['roti' 'birth' 'turkish' 'rachel' 'ethiopian']\n",
      "['mein' 'gun' 'char' 'kebab' 'dietary']\n",
      "['harry' 'papaya' 'potter' 'cruise' 'laura']\n",
      "['nom' 'zoo' 'extension' 'kong' 'honda']\n",
      "['chiropractor' 'tiger' 'chiropractic' 'adjustment' 'guitar']\n",
      "['fence' 'gumbo' 'comic' 'tim' 'sorbet']\n",
      "['mahi' 'jimmy' 'paella' 'bra' 'peruvian']\n",
      "['alfredo' 'publix' 'marinara' 'hookah' 'ryan']\n",
      "['ashley' 'brulee' 'froyo' 'oak' 'april']\n",
      "['tint' 'nicole' 'metro' 'hollywood' 'barbacoa']\n",
      "['fabric' 'pok' 'alteration' 'bride' 'verde']\n",
      "['cobbler' 'biryani' 'chutney' 'chick' 'cheesesteak']\n",
      "['cigar' 'piercing' 'peter' 'latin' 'walmart']\n",
      "['bahn' 'float' 'rooftop' 'dosa' 'boneless']\n",
      "['jasmine' 'trivia' 'puzzle' 'tso' 'mignon']\n",
      "['franklin' 'appt' 'torchy' 'bravas' 'monte']\n",
      "['sichuan' 'lac' 'arepas' 'shane' 'luc']\n",
      "['vermicelli' 'defiantly' 'powell' 'anthony' 'taiwanese']\n",
      "['earl' 'blackened' 'quiche' 'threading' 'grey']\n",
      "['gyoza' 'costco' 'customize' 'migas' 'ikea']\n"
     ]
    }
   ],
   "source": [
    "# Describe topics\n",
    "topics = lda_model.describeTopics(5)\n",
    "\n",
    "print(\"The topics described by their top-weighted terms:\")\n",
    "\n",
    "#topics.show(truncate=False)\n",
    "\n",
    "# Shows the results\n",
    "import numpy as np\n",
    "topic_i = topics.select(\"termIndices\").rdd.map(lambda r: r[0]).collect()\n",
    "for i in topic_i:\n",
    "    print(np.array(cv_model.vocabulary)[i])"
   ]
  },
  {
   "cell_type": "markdown",
   "metadata": {},
   "source": [
    "### 2) Negative reviews"
   ]
  },
  {
   "cell_type": "code",
   "execution_count": 21,
   "metadata": {},
   "outputs": [],
   "source": [
    "# rdd of negative_review\n",
    "negative_review_rdd = negative_review.rdd\n",
    "\n",
    "# text column\n",
    "negative_review_rdd = negative_review_rdd.map(lambda x : x['text'])"
   ]
  },
  {
   "cell_type": "markdown",
   "metadata": {},
   "source": [
    "#### Parse the data"
   ]
  },
  {
   "cell_type": "code",
   "execution_count": 22,
   "metadata": {},
   "outputs": [
    {
     "data": {
      "text/plain": [
       "[(1,\n",
       "  ['stayed',\n",
       "   'many',\n",
       "   'marriott',\n",
       "   'renaissance',\n",
       "   'marriott',\n",
       "   'huge',\n",
       "   'disappointment',\n",
       "   'front',\n",
       "   'desk',\n",
       "   'atrium',\n",
       "   'nice',\n",
       "   'starbucks',\n",
       "   'site',\n",
       "   'nice',\n",
       "   'room',\n",
       "   'run',\n",
       "   'old',\n",
       "   'flat',\n",
       "   'screen',\n",
       "   'expected',\n",
       "   'renaissance',\n",
       "   'got',\n",
       "   'hotel',\n",
       "   'via',\n",
       "   'priceline',\n",
       "   'rate',\n",
       "   'good',\n",
       "   'deal',\n",
       "   'price',\n",
       "   'true',\n",
       "   'renaissance'])]"
      ]
     },
     "execution_count": 22,
     "metadata": {},
     "output_type": "execute_result"
    }
   ],
   "source": [
    "negative_words_rdd = negative_review_rdd.map(lambda line: (1, get_tokens(line)))\n",
    "negative_words_rdd.take(1)"
   ]
  },
  {
   "cell_type": "code",
   "execution_count": null,
   "metadata": {},
   "outputs": [
    {
     "data": {
      "text/plain": [
       "['marriott',\n",
       " 'renaissance',\n",
       " 'marriott',\n",
       " 'atrium',\n",
       " 'renaissance',\n",
       " 'priceline',\n",
       " 'renaissance']"
      ]
     },
     "execution_count": 24,
     "metadata": {},
     "output_type": "execute_result"
    }
   ],
   "source": [
    "doc_stop_words2 = negative_words_rdd.flatMap(lambda r: r[1]).map(lambda r: (r,1)).reduceByKey(lambda a,b: a+b)\n",
    "\n",
    "# doc_stop_words.collect()\n",
    "\n",
    "doc_stop_words2 = doc_stop_words2.filter(lambda a: a[1]>10000).map(lambda r: r[0]).collect()\n",
    "\n",
    "# throw away stop words and words that are just single letters.\n",
    "negative_words_rdd = negative_words_rdd.map(lambda r: (r[0],[w for w in r[1] if not w in doc_stop_words and not len(w)==1])) \n",
    "negative_words_rdd.take(1)[0][1][:10]"
   ]
  },
  {
   "cell_type": "markdown",
   "metadata": {},
   "source": [
    "#### Convert tokens into sparse vectors"
   ]
  },
  {
   "cell_type": "code",
   "execution_count": null,
   "metadata": {},
   "outputs": [
    {
     "data": {
      "text/plain": [
       "[Row(dummy=1, words=['marriott', 'renaissance', 'marriott', 'atrium', 'renaissance', 'priceline', 'renaissance'])]"
      ]
     },
     "execution_count": 25,
     "metadata": {},
     "output_type": "execute_result"
    }
   ],
   "source": [
    "negative_words_df = spark.createDataFrame(negative_words_rdd, [\"dummy\",\"words\"])\n",
    "negative_words_df.cache()\n",
    "negative_words_df.take(1)"
   ]
  },
  {
   "cell_type": "code",
   "execution_count": 27,
   "metadata": {},
   "outputs": [
    {
     "name": "stdout",
     "output_type": "stream",
     "text": [
      "+-----+--------------------+--------------------+\n",
      "|dummy|               words|            features|\n",
      "+-----+--------------------+--------------------+\n",
      "|    1|[marriott, renais...|(180283,[600,2362...|\n",
      "|    1|[neanderthal, bou...|(180283,[200,449,...|\n",
      "|    1|[adequate, victor...|(180283,[530,3240...|\n",
      "|    1|[crappy, inconsis...|(180283,[40,314,4...|\n",
      "|    1|[bolt, fanny, fab...|(180283,[17,218,4...|\n",
      "|    1|[taker, incompete...|(180283,[3,26,82,...|\n",
      "|    1|            [vacant]|(180283,[2641],[1...|\n",
      "|    1|[desolate, dingy,...|(180283,[81,1010,...|\n",
      "|    1|[coco, harm, foul...|(180283,[69,165,3...|\n",
      "|    1|[soccer, understa...|(180283,[309,838,...|\n",
      "+-----+--------------------+--------------------+\n",
      "only showing top 10 rows\n",
      "\n"
     ]
    }
   ],
   "source": [
    "cv2 = CountVectorizer(inputCol=\"words\", outputCol=\"features\", minDF=2)\n",
    "\n",
    "cv_model2 = cv2.fit(negative_words_df)\n",
    "\n",
    "negative_words_df_w_features = cv_model2.transform(negative_words_df)\n",
    "negative_words_df_w_features.cache()\n",
    "negative_words_df_w_features.show(10)"
   ]
  },
  {
   "cell_type": "markdown",
   "metadata": {},
   "source": [
    "#### Vocabulary"
   ]
  },
  {
   "cell_type": "code",
   "execution_count": 28,
   "metadata": {},
   "outputs": [
    {
     "name": "stdout",
     "output_type": "stream",
     "text": [
      "Vocabulary from CountVectorizerModel is:\n",
      "['refund', 'unprofessional', 'disgusting', 'refused', 'receipt', 'apology', 'cancel', 'ignored', 'proceeded', 'trash', 'nasty', 'poorly', 'tasteless', 'contract', 'lease', 'annoyed', 'ruined', 'unacceptable', 'stale', 'hung', 'apologize', 'wasted', 'complained', 'deposit', 'flavorless', 'rep', 'failed', 'nope', 'charging', 'scam', 'messed', 'cancelled', 'subpar', 'undercooked', 'remove', 'replied', 'garbage', 'mail', 'toilet', 'inedible', 'crappy', 'shut', 'rudely', 'bothered', 'filthy', 'angry', 'rip', 'bug', 'confirmed', 'stupid', 'frustrating', 'voice', 'lacked', 'screw', 'frustrated', 'explanation', 'downhill', 'reply', 'female', 'refuse', 'yelling', 'emailed', 'wtf', 'unable', 'edible', 'salesman', 'acted', 'file', 'nightmare', 'forced', 'flag', 'cab', 'confirm', 'behavior', 'lied', 'insisted', 'stating', 'honor', 'tone', 'error', 'blah', 'claimed', 'incompetent', 'blame', 'police', 'caused', 'unfriendly', 'exchange', 'code', 'acknowledge', 'attempted', 'yelled', 'acknowledged', 'respond', 'pissed', 'condescending', 'letter', 'unpleasant', 'ripped', 'damaged']\n",
      "\n",
      "---\n",
      "\n",
      "Number of terms W2 =  180283\n"
     ]
    }
   ],
   "source": [
    "print (\"Vocabulary from CountVectorizerModel is:\")\n",
    "print(cv_model2.vocabulary[:100])\n",
    "print(\"\\n---\\n\")\n",
    "\n",
    "W2 = len(cv_model2.vocabulary)\n",
    "print(\"Number of terms W2 = \", W2)"
   ]
  },
  {
   "cell_type": "markdown",
   "metadata": {},
   "source": [
    "#### Latent Dirichlet Allocation\n",
    "\n",
    "Using Latent Dirichlet Allocation to analyse negative_review with k=20."
   ]
  },
  {
   "cell_type": "code",
   "execution_count": null,
   "metadata": {},
   "outputs": [],
   "source": [
    "lda2 = LDA(k=20, maxIter=5)\n",
    "\n",
    "lda_model2 = lda2.fit(negative_words_df_w_features)"
   ]
  },
  {
   "cell_type": "markdown",
   "metadata": {},
   "source": [
    "#### Measurement:"
   ]
  },
  {
   "cell_type": "code",
   "execution_count": null,
   "metadata": {},
   "outputs": [],
   "source": [
    "ll2 = lda_model2.logLikelihood(negative_words_df_w_features)\n",
    "\n",
    "lp2 = lda_model2.logPerplexity(negative_words_df_w_features)\n",
    "\n",
    "print(\"The lower bound on the log likelihood of the entire corpus: \" + str(ll2))\n",
    "\n",
    "print(\"The upper bound on the perplexity: \" + str(lp2))"
   ]
  },
  {
   "cell_type": "code",
   "execution_count": null,
   "metadata": {},
   "outputs": [
    {
     "name": "stdout",
     "output_type": "stream",
     "text": [
      "The topics described by their top-weighted terms:\n",
      "['hertz' 'windshield' 'cancel' 'poorly' 'vip']\n",
      "['fence' 'refund' 'messed' 'underwhelming' 'smoking']\n",
      "['tasteless' 'refund' 'voucher' 'poorly' 'refused']\n",
      "['disgusting' 'walmart' 'exchange' 'filthy' 'downhill']\n",
      "['disgusting' 'apology' 'strike' 'lacked' 'ignored']\n",
      "['flavorless' 'grease' 'undercooked' 'que' 'acknowledged']\n",
      "['bug' 'poisoning' 'kitten' 'tasteless' 'safeway']\n",
      "['blah' 'inedible' 'sucked' 'pok' 'silverware']\n",
      "['stale' 'edible' 'pharmacy' 'cv' 'tasteless']\n",
      "['rat' 'expired' 'ruined' 'dosa' 'weak']\n",
      "['disgusting' 'mcdonald' 'dunkin' 'ihop' 'watery']\n",
      "['refund' 'cab' 'cancel' 'cancelled' 'transaction']\n",
      "['salesman' 'ignored' 'nasty' 'burned' 'hung']\n",
      "['weak' 'deposit' 'cuticle' 'male' 'proceeded']\n",
      "['refund' 'refused' 'unprofessional' 'receipt' 'disgusting']\n",
      "['flavorless' 'wendy' 'piercing' 'cruise' 'tux']\n",
      "['pharmacy' 'pharmacist' 'medication' 'flag' 'rx']\n",
      "['panera' 'trash' 'calzone' 'interview' 'refund']\n",
      "['hookah' 'grooming' 'groomer' 'alteration' 'rep']\n",
      "['appt' 'disorganized' 'unable' 'bahn' 'hashbrowns']\n"
     ]
    }
   ],
   "source": [
    "# Describe topics\n",
    "topics2 = lda_model2.describeTopics(5)\n",
    "\n",
    "print(\"The topics described by their top-weighted terms:\")\n",
    "\n",
    "#topics2.show(truncate=False)\n",
    "\n",
    "# Shows the results\n",
    "import numpy as np\n",
    "topic_i = topics2.select(\"termIndices\").rdd.map(lambda r: r[0]).collect()\n",
    "for i in topic_i:\n",
    "    print(np.array(cv_model2.vocabulary)[i])"
   ]
  },
  {
   "cell_type": "markdown",
   "metadata": {},
   "source": [
    "#### Observations: \n",
    "Most of topics returned by LDA model for positive reviews are specific nouns, such as kebab and vermicelli. However, most of topics returned by LDA model for negative reviews has negative sentiment, such as disgusting and flavorless. There is obvious difference between topics in positive reviews and negative reviews."
   ]
  },
  {
   "cell_type": "markdown",
   "metadata": {},
   "source": [
    "## 7. Execution Time"
   ]
  },
  {
   "cell_type": "markdown",
   "metadata": {},
   "source": [
    "Apache Spark using partitions of RDDs manages data. Partitions of RDDs can help with reduction of network traffic when data is sent or collected. Consequently, it is important to use partitions through RDDs to make cluster process data efficienty. Consequently, the followings examine how execution time interacts with number of partitions."
   ]
  },
  {
   "cell_type": "markdown",
   "metadata": {},
   "source": [
    "#### getNumPartitions() can be used to discover the number of partitions of RDDs"
   ]
  },
  {
   "cell_type": "code",
   "execution_count": 57,
   "metadata": {},
   "outputs": [
    {
     "data": {
      "text/plain": [
       "28"
      ]
     },
     "execution_count": 57,
     "metadata": {},
     "output_type": "execute_result"
    }
   ],
   "source": [
    "user.rdd.getNumPartitions()"
   ]
  },
  {
   "cell_type": "code",
   "execution_count": 58,
   "metadata": {},
   "outputs": [
    {
     "data": {
      "text/plain": [
       "52"
      ]
     },
     "execution_count": 58,
     "metadata": {},
     "output_type": "execute_result"
    }
   ],
   "source": [
    "review.rdd.getNumPartitions()"
   ]
  },
  {
   "cell_type": "code",
   "execution_count": 60,
   "metadata": {},
   "outputs": [
    {
     "data": {
      "text/plain": [
       "2"
      ]
     },
     "execution_count": 60,
     "metadata": {},
     "output_type": "execute_result"
    }
   ],
   "source": [
    "business.rdd.getNumPartitions()"
   ]
  },
  {
   "cell_type": "markdown",
   "metadata": {},
   "source": [
    "#### Experiment with simple query  with only select function in user data set"
   ]
  },
  {
   "cell_type": "code",
   "execution_count": 100,
   "metadata": {},
   "outputs": [
    {
     "name": "stdout",
     "output_type": "stream",
     "text": [
      "Number of partitions: 1\n",
      "('time: ', 0.01260995864868164)\n",
      "Number of partitions: 2\n",
      "('time: ', 0.013219118118286133)\n",
      "Number of partitions: 3\n",
      "('time: ', 0.012471914291381836)\n",
      "Number of partitions: 4\n",
      "('time: ', 0.013293981552124023)\n",
      "Number of partitions: 5\n",
      "('time: ', 0.013734102249145508)\n",
      "Number of partitions: 6\n",
      "('time: ', 0.01364588737487793)\n",
      "Number of partitions: 7\n",
      "('time: ', 0.013822078704833984)\n",
      "Number of partitions: 8\n",
      "('time: ', 0.012482166290283203)\n",
      "Number of partitions: 9\n",
      "('time: ', 0.012437105178833008)\n",
      "Number of partitions: 10\n",
      "('time: ', 0.014729976654052734)\n",
      "Number of partitions: 11\n",
      "('time: ', 0.014044046401977539)\n",
      "Number of partitions: 12\n",
      "('time: ', 0.013261079788208008)\n",
      "Number of partitions: 13\n",
      "('time: ', 0.012125968933105469)\n",
      "Number of partitions: 14\n",
      "('time: ', 0.01201486587524414)\n",
      "Number of partitions: 15\n",
      "('time: ', 0.012333869934082031)\n",
      "Number of partitions: 16\n",
      "('time: ', 0.013525009155273438)\n",
      "Number of partitions: 17\n",
      "('time: ', 0.013586044311523438)\n",
      "Number of partitions: 18\n",
      "('time: ', 0.012335062026977539)\n",
      "Number of partitions: 19\n",
      "('time: ', 0.013188838958740234)\n",
      "Number of partitions: 20\n",
      "('time: ', 0.013935089111328125)\n"
     ]
    }
   ],
   "source": [
    "times1 = []\n",
    "for npart1 in range(1,21,1):\n",
    "    user = user.repartition(npart1)\n",
    "    print(\"Number of partitions: {}\".format(user.rdd.getNumPartitions()))\n",
    "    t0 = time.time()\n",
    "    user_fans=user.select('user_id','fans')\n",
    "    dt = time.time() - t0;\n",
    "    print(\"time: \",dt)\n",
    "    times1 = times1 + [dt]"
   ]
  },
  {
   "cell_type": "code",
   "execution_count": 101,
   "metadata": {},
   "outputs": [
    {
     "data": {
      "image/png": "[encoded data removed]",
      "text/plain": [
       "<matplotlib.figure.Figure at 0x7ff527b54410>"
      ]
     },
     "metadata": {},
     "output_type": "display_data"
    }
   ],
   "source": [
    "from numpy import array\n",
    "times1 = array(times1)\n",
    "plt.plot(range(1,21,1),times1,'ko:')\n",
    "plt.xlim((0, 25))\n",
    "plt.xlabel(\"Number of partitions of RDD of business table\")\n",
    "plt.ylabel(\"Execution Time\")\n",
    "#plt.ylim([0,8.5])\n",
    "plt.show();"
   ]
  },
  {
   "cell_type": "markdown",
   "metadata": {},
   "source": [
    "#### Experiment with more complex query with functions: groupBy(), count(), and sort() in business data set"
   ]
  },
  {
   "cell_type": "code",
   "execution_count": 104,
   "metadata": {},
   "outputs": [
    {
     "name": "stdout",
     "output_type": "stream",
     "text": [
      "Number of partitions: 1\n",
      "('time: ', 3.1228389739990234)\n",
      "Number of partitions: 2\n",
      "('time: ', 2.792872905731201)\n",
      "Number of partitions: 3\n",
      "('time: ', 1.9465579986572266)\n",
      "Number of partitions: 4\n",
      "('time: ', 1.912475824356079)\n",
      "Number of partitions: 5\n",
      "('time: ', 2.3053550720214844)\n",
      "Number of partitions: 6\n",
      "('time: ', 1.9967899322509766)\n",
      "Number of partitions: 7\n",
      "('time: ', 2.05855393409729)\n",
      "Number of partitions: 8\n",
      "('time: ', 2.050809144973755)\n",
      "Number of partitions: 9\n",
      "('time: ', 2.2086410522460938)\n",
      "Number of partitions: 10\n",
      "('time: ', 2.1508140563964844)\n",
      "Number of partitions: 11\n",
      "('time: ', 2.2865898609161377)\n",
      "Number of partitions: 12\n",
      "('time: ', 2.0131170749664307)\n",
      "Number of partitions: 13\n",
      "('time: ', 2.065850019454956)\n",
      "Number of partitions: 14\n",
      "('time: ', 2.125213861465454)\n",
      "Number of partitions: 15\n",
      "('time: ', 3.3551859855651855)\n",
      "Number of partitions: 16\n",
      "('time: ', 2.3378989696502686)\n",
      "Number of partitions: 17\n",
      "('time: ', 2.147265911102295)\n",
      "Number of partitions: 18\n",
      "('time: ', 2.160961151123047)\n",
      "Number of partitions: 19\n",
      "('time: ', 2.1274847984313965)\n",
      "Number of partitions: 20\n",
      "('time: ', 2.356297016143799)\n"
     ]
    }
   ],
   "source": [
    "times2 = []\n",
    "for npart2 in range(1,21,1):\n",
    "    business = business.repartition(npart2)\n",
    "    print(\"Number of partitions: {}\".format(business.rdd.getNumPartitions()))\n",
    "    t0 = time.time()\n",
    "    business.groupBy('city').count().sort('count', ascending=False).toPandas().head(10)\n",
    "    dt = time.time() - t0;\n",
    "    print(\"time: \",dt)\n",
    "    times2 = times2 + [dt]"
   ]
  },
  {
   "cell_type": "code",
   "execution_count": 105,
   "metadata": {},
   "outputs": [
    {
     "data": {
      "image/png": "[encoded data removed]",
      "text/plain": [
       "<matplotlib.figure.Figure at 0x7ff5275eded0>"
      ]
     },
     "metadata": {},
     "output_type": "display_data"
    }
   ],
   "source": [
    "# refer to pyspark_rdd.ipynb in Week 3\n",
    "from numpy import array\n",
    "times2 = array(times2)\n",
    "plt.plot(range(1,21,1),times2,'ko:')\n",
    "plt.xlim((0, 25))\n",
    "plt.xlabel(\"Number of partitions of RDD of business table\")\n",
    "plt.ylabel(\"Execution Time\")\n",
    "#plt.ylim([0,8.5])\n",
    "plt.show();"
   ]
  },
  {
   "cell_type": "markdown",
   "metadata": {},
   "source": [
    "#### Experiment with much more complex qeury with function: withColum(), and some calculations in review data set"
   ]
  },
  {
   "cell_type": "code",
   "execution_count": 106,
   "metadata": {},
   "outputs": [
    {
     "name": "stdout",
     "output_type": "stream",
     "text": [
      "Number of partitions: 11\n",
      "('time: ', 56.946512937545776)\n",
      "Number of partitions: 12\n",
      "('time: ', 55.670791149139404)\n",
      "Number of partitions: 13\n",
      "('time: ', 55.05771613121033)\n",
      "Number of partitions: 14\n",
      "('time: ', 59.23739290237427)\n",
      "Number of partitions: 15\n",
      "('time: ', 55.03888821601868)\n",
      "Number of partitions: 16\n",
      "('time: ', 55.793827056884766)\n",
      "Number of partitions: 17\n",
      "('time: ', 62.86350893974304)\n",
      "Number of partitions: 18\n",
      "('time: ', 54.80619978904724)\n",
      "Number of partitions: 19\n",
      "('time: ', 56.22295093536377)\n",
      "Number of partitions: 20\n",
      "('time: ', 55.71577310562134)\n"
     ]
    }
   ],
   "source": [
    "# refer to pyspark_rdd.ipynb in Week 3\n",
    "import time\n",
    "\n",
    "times3 = []\n",
    "\n",
    "for npart3 in range(11,21,1):\n",
    "    review = review.repartition(npart3)\n",
    "    print(\"Number of partitions: {}\".format(review.rdd.getNumPartitions()))\n",
    "    t0 = time.time()\n",
    "    review_positive\\\n",
    "    .withColumn('percentage of positive reviews', (col('positive_reviews')/col('total_reviews'))*100)\\\n",
    "    .sort('percentage of positive reviews',ascending = False).toPandas().head(10)\n",
    "    dt = time.time() - t0;\n",
    "    print(\"time: \",dt)\n",
    "    times3 = times3 + [dt]"
   ]
  },
  {
   "cell_type": "code",
   "execution_count": 113,
   "metadata": {},
   "outputs": [
    {
     "data": {
      "image/png": "[encoded data removed]",
      "text/plain": [
       "<matplotlib.figure.Figure at 0x7ff519ea01d0>"
      ]
     },
     "metadata": {},
     "output_type": "display_data"
    }
   ],
   "source": [
    "# refer to pyspark_rdd.ipynb in Week 3\n",
    "from numpy import array\n",
    "from matplotlib.pyplot import MultipleLocator\n",
    "times3 = array(times3)\n",
    "plt.plot(range(11,21,1),times3,'ko:')\n",
    "plt.xlim((10, 21))\n",
    "plt.xlabel(\"Number of partitions of RDD of review table\")\n",
    "plt.ylabel(\"Execution Time\")\n",
    "#plt.ylim([0,8.5])\n",
    "plt.show();"
   ]
  },
  {
   "cell_type": "markdown",
   "metadata": {},
   "source": [
    "#### Observations: \n",
    "Execution time for query does not decrease monotonically."
   ]
  },
  {
   "cell_type": "markdown",
   "metadata": {},
   "source": [
    "## 8. Conclusion\n",
    "\n",
    "### 8.1 Limitations and improvements:\n",
    "\n",
    "k for LDA model is constant 20 and the coherence measures can be implemented to find the optimal k value for LDA model with highest coherence score. Besides, different number of worker nodes can be implemented to examine how execution time to train LDA model interacts with number of worker nodes, to improve the efficiency of implementation of LDA model.\n",
    "\n",
    "### 8.2 Conclusion of results:\n",
    "\n",
    "In the first part, There are various categories of businesses in Yelp Dataset, from restaurants to Health & Medical and Restaurant has most number of businesses in Yelp Dataset. At the same time, businesses are located in different cities and different states. Further more, almost 76.75% businesses survive and many businesses are rated high with stars larger than 4. Yelp was founded in 2004 and the first user joined Yelp at 08:45:11 on 12 October, 2004. The number of users in Yelp increased rapidly from 2010 to 2017. However, number of users in Yelp increased slowly in 2020 and 2021, which might caused by the COVID-19. To adapt to the effects of COVID-19, businesses provides some extra services, such as virtual services and delivery services to operating businesses udner COVID-19. Interestingly, \n",
    "\n",
    "To do the sentiment analysis, LDA is implemented to extract hidden topics from text of positive reviews and negative reviews. Most of topics returned by LDA model for positive reviews are specific nouns, such as kebab and vermicelli, which does not contains the sentiment. It may indicate that kebab and vermicelli are popular food in the market. However, most of topics returned by LDA model for negative reviews has negative sentiment, such as disgusting and flavorless, which might means the food tastes bad for some restaurants. Compared with LDA model of positive reviews, topics returned by LDA model of negative reviews has an obvious negative sentiment, so there is difference between topics in positive reviews and negative reviews and topics can use to indicate the sentiment of reviews.\n",
    "\n",
    "To examine how execution time interacts with number of partitions, query with different complexity executed in different data set with different numbers of partitions. There is no evidence that there is monotonic increase or decrease of execution time when numbers of partitions increase monotonically. If the number of partitions is small, then there is high volume of data in memory of one executor nodes. Therefore, computation speed might be unequal and slow. If there is too many partitions, then scheduling too many small tasks might affect the execution speed.\n"
   ]
  },
  {
   "cell_type": "markdown",
   "metadata": {},
   "source": [
    "## 9. Reference"
   ]
  },
  {
   "cell_type": "markdown",
   "metadata": {},
   "source": [
    "\n",
    "1.Yelp Dataset:\n",
    "https://engineeringblog.yelp.com/2020/06/how-businesses-have-reacted-to-covid-19-using-yelp-features.html\n",
    "\n",
    "2.Spark.apache:\n",
    "https://spark.apache.org/docs/1.6.1/sql-programming-guide.html#inferring-the-schema-using-reflection\n",
    "\n",
    "https://spark.apache.org/docs/latest/api/python/reference/api/pyspark.sql.DataFrame.printSchema.html\n",
    "\n",
    "\n",
    "3.Yelp-Sentiment-Analysis-and-data-management: \n",
    "https://github.com/SoniaRode21/Yelp-Sentiment-Analysis-and-data-management/blob/master/SentimentAnalysis/Code/Sentiment_Reviews.ipynb\n",
    "\n",
    "\n",
    "4.NLP for Yelp Reviews:\n",
    "https://www.kaggle.com/zhenyufan/nlp-for-yelp-reviews\n",
    "\n",
    "5.Yelp Review Rating Prediction: Machine Learning and Deep Learning Models-Zefang Liu:\n",
    "https://arxiv.org/abs/2012.06690\n",
    "\n",
    "6.Latent Dirichlet Allocation-Si Chen and Yufei Wang-University of California San Diego\n",
    "\n",
    "7.Sentiment Analysis with PySpark - Ricky Kim:\n",
    "https://www.linkedin.com/pulse/sentiment-analysis-pyspark-ricky-kim\n",
    "\n",
    "8.pyspark.ml package： \n",
    "https://spark.apache.org/docs/1.3.0/api/python/pyspark.ml.html\n",
    "\n",
    "9.Using LDA to Uncover the Underlying Structures and Relations in Smart City Data Streams-Daniel Puschmann, Payam Barnaghi, Senior Member, IEEE, Rahim Tafazolli, Senior Member, IEEE\n",
    "Institute for Communication Sy:\n",
    "http://epubs.surrey.ac.uk/841381/1/Using%20LDA%20to%20Uncover%20the%20Underlying%20Structures%20and%20Relations%20in%20Smart%20City%20Data%20Streams.pdf\n"
   ]
  },
  {
   "cell_type": "code",
   "execution_count": null,
   "metadata": {},
   "outputs": [],
   "source": []
  }
 ],
 "metadata": {
  "kernelspec": {
   "display_name": "PySpark",
   "language": "python",
   "name": "pyspark"
  },
  "language_info": {
   "codemirror_mode": {
    "name": "ipython",
    "version": 3
   },
   "file_extension": ".py",
   "mimetype": "text/x-python",
   "name": "python",
   "nbconvert_exporter": "python",
   "pygments_lexer": "ipython3",
   "version": "3.6.13"
  }
 },
 "nbformat": 4,
 "nbformat_minor": 2
}
